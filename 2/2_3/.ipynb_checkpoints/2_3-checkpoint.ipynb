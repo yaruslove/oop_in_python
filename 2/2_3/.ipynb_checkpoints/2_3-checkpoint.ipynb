{
 "cells": [
  {
   "cell_type": "code",
   "execution_count": null,
   "id": "98b68262-3c4b-4f59-b666-7f4ce219435b",
   "metadata": {
    "tags": []
   },
   "outputs": [],
   "source": [
    "# class Things:\n",
    "#     def __set_name__ (self, owner, name):\n",
    "#         self.name = \"__\"+name\n",
    "#     def __get__(self, instance, owner): \n",
    "#         return getattr(instance, self.name)\n",
    "#     def _hide_get (self,instance,owner):\n",
    "#         return getattr(instance,self.name)\n",
    "    \n",
    "#     def _hide_set(self, instance, value):\n",
    "#         self.verify_coord(value)\n",
    "#         setattr(instance, self.name, value)"
   ]
  },
  {
   "cell_type": "code",
   "execution_count": null,
   "id": "e2b075cd-04d1-4d8d-971e-74db9f0a1232",
   "metadata": {},
   "outputs": [],
   "source": []
  },
  {
   "cell_type": "code",
   "execution_count": 3,
   "id": "e45c6410-0d8a-466f-91c0-9aa2de7238b9",
   "metadata": {},
   "outputs": [],
   "source": [
    "class Bag:\n",
    "    def __init__ (self,max_weight):\n",
    "        self.max_weight=max_weight\n",
    "        self.__things=list()\n",
    "        self.__sum_weight=0\n",
    "        \n",
    "    \n",
    "    def weight_checker (self,ad):\n",
    "        return self.max_weight>self.__sum_weight+ad\n",
    "        \n",
    "    \n",
    "    def add_thing(self, thing):\n",
    "        if self.weight_checker(thing.weight):\n",
    "            self.__things.append(thing)\n",
    "            self.__sum_weight+=thing.weight\n",
    "    \n",
    "    def remove_thing(self, indx):\n",
    "        self.__sum_weight=self.__sum_weight-self.__things[indx].weight\n",
    "        del self.__things[indx]\n",
    "        \n",
    "    def get_total_weight(self):\n",
    "        return self.__sum_weight\n",
    "    \n",
    "    @property\n",
    "    def things(self):\n",
    "        return self.__things\n",
    "        \n",
    "class Thing:\n",
    "    def __init__ (self,name,weight):\n",
    "        self.name=name\n",
    "        self.weight=weight\n",
    "    "
   ]
  },
  {
   "cell_type": "code",
   "execution_count": 4,
   "id": "520d219b-c562-4c8d-b817-d2fb9f9ba01b",
   "metadata": {},
   "outputs": [
    {
     "ename": "AttributeError",
     "evalue": "'Bag' object has no attribute '_Bag__weight_use'",
     "output_type": "error",
     "traceback": [
      "\u001b[0;31m---------------------------------------------------------------------------\u001b[0m",
      "\u001b[0;31mAttributeError\u001b[0m                            Traceback (most recent call last)",
      "Input \u001b[0;32mIn [4]\u001b[0m, in \u001b[0;36m<module>\u001b[0;34m\u001b[0m\n\u001b[1;32m      1\u001b[0m bag \u001b[38;5;241m=\u001b[39m Bag(\u001b[38;5;241m1000\u001b[39m)\n\u001b[0;32m----> 2\u001b[0m \u001b[43mbag\u001b[49m\u001b[38;5;241;43m.\u001b[39;49m\u001b[43madd_thing\u001b[49m\u001b[43m(\u001b[49m\u001b[43mThing\u001b[49m\u001b[43m(\u001b[49m\u001b[38;5;124;43m\"\u001b[39;49m\u001b[38;5;124;43mКнига по Python\u001b[39;49m\u001b[38;5;124;43m\"\u001b[39;49m\u001b[43m,\u001b[49m\u001b[43m \u001b[49m\u001b[38;5;241;43m100\u001b[39;49m\u001b[43m)\u001b[49m\u001b[43m)\u001b[49m\n\u001b[1;32m      3\u001b[0m bag\u001b[38;5;241m.\u001b[39madd_thing(Thing(\u001b[38;5;124m\"\u001b[39m\u001b[38;5;124mКотелок\u001b[39m\u001b[38;5;124m\"\u001b[39m, \u001b[38;5;241m500\u001b[39m))\n\u001b[1;32m      4\u001b[0m bag\u001b[38;5;241m.\u001b[39madd_thing(Thing(\u001b[38;5;124m\"\u001b[39m\u001b[38;5;124mСпички\u001b[39m\u001b[38;5;124m\"\u001b[39m, \u001b[38;5;241m20\u001b[39m))\n",
      "Input \u001b[0;32mIn [3]\u001b[0m, in \u001b[0;36mBag.add_thing\u001b[0;34m(self, thing)\u001b[0m\n\u001b[1;32m     12\u001b[0m \u001b[38;5;28;01mdef\u001b[39;00m \u001b[38;5;21madd_thing\u001b[39m(\u001b[38;5;28mself\u001b[39m, thing):\n\u001b[0;32m---> 13\u001b[0m     \u001b[38;5;28;01mif\u001b[39;00m \u001b[38;5;28;43mself\u001b[39;49m\u001b[38;5;241;43m.\u001b[39;49m\u001b[43mweight_checker\u001b[49m\u001b[43m(\u001b[49m\u001b[43mthing\u001b[49m\u001b[38;5;241;43m.\u001b[39;49m\u001b[43mweight\u001b[49m\u001b[43m)\u001b[49m:\n\u001b[1;32m     14\u001b[0m         \u001b[38;5;28mself\u001b[39m\u001b[38;5;241m.\u001b[39m__things\u001b[38;5;241m.\u001b[39mappend(thing)\n\u001b[1;32m     15\u001b[0m         \u001b[38;5;28mself\u001b[39m\u001b[38;5;241m.\u001b[39m__sum_weight\u001b[38;5;241m+\u001b[39m\u001b[38;5;241m=\u001b[39mthing\u001b[38;5;241m.\u001b[39mweight\n",
      "Input \u001b[0;32mIn [3]\u001b[0m, in \u001b[0;36mBag.weight_checker\u001b[0;34m(self, ad)\u001b[0m\n\u001b[1;32m      8\u001b[0m \u001b[38;5;28;01mdef\u001b[39;00m \u001b[38;5;21mweight_checker\u001b[39m (\u001b[38;5;28mself\u001b[39m,ad):\n\u001b[0;32m----> 9\u001b[0m     \u001b[38;5;28;01mreturn\u001b[39;00m \u001b[38;5;28mself\u001b[39m\u001b[38;5;241m.\u001b[39mmax_weight\u001b[38;5;241m>\u001b[39m\u001b[38;5;28;43mself\u001b[39;49m\u001b[38;5;241;43m.\u001b[39;49m\u001b[43m__weight_use\u001b[49m\u001b[38;5;241m+\u001b[39mad\n",
      "\u001b[0;31mAttributeError\u001b[0m: 'Bag' object has no attribute '_Bag__weight_use'"
     ]
    }
   ],
   "source": [
    "bag = Bag(1000)\n",
    "bag.add_thing(Thing(\"Книга по Python\", 100))\n",
    "bag.add_thing(Thing(\"Котелок\", 500))\n",
    "bag.add_thing(Thing(\"Спички\", 20))\n",
    "bag.add_thing(Thing(\"Бумага\", 100))\n",
    "w = bag.get_total_weight()\n",
    "for t in bag.things:\n",
    "    print(f\"{t.name}: {t.weight}\")\n",
    "    \n",
    "    "
   ]
  },
  {
   "cell_type": "code",
   "execution_count": null,
   "id": "73c8c35d-9972-4c78-866c-ae0fae4137e5",
   "metadata": {},
   "outputs": [],
   "source": []
  },
  {
   "cell_type": "code",
   "execution_count": null,
   "id": "6a40cced-b6d8-434f-a618-daf233f27852",
   "metadata": {},
   "outputs": [],
   "source": [
    "a=2\n",
    "a=\"ogon\"\n"
   ]
  },
  {
   "cell_type": "code",
   "execution_count": null,
   "id": "59c8397e-0e57-4da4-b0db-e17607a70e3b",
   "metadata": {},
   "outputs": [],
   "source": []
  }
 ],
 "metadata": {
  "kernelspec": {
   "display_name": "Python 3 (ipykernel)",
   "language": "python",
   "name": "python3"
  },
  "language_info": {
   "codemirror_mode": {
    "name": "ipython",
    "version": 3
   },
   "file_extension": ".py",
   "mimetype": "text/x-python",
   "name": "python",
   "nbconvert_exporter": "python",
   "pygments_lexer": "ipython3",
   "version": "3.9.10"
  }
 },
 "nbformat": 4,
 "nbformat_minor": 5
}
