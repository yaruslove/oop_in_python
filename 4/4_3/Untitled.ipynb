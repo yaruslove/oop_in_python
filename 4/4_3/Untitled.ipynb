{
 "cells": [
  {
   "cell_type": "code",
   "execution_count": 1,
   "id": "185a683c-850f-4aad-8c78-80dfb5c636a3",
   "metadata": {},
   "outputs": [],
   "source": [
    "def decorator_function(func):\n",
    "    def wrapper():\n",
    "        print('Функция-обёртка!')\n",
    "        print('Оборачиваемая функция: {}'.format(func))\n",
    "        print('Выполняем обёрнутую функцию...')\n",
    "        func()\n",
    "        print('Выходим из обёртки')\n",
    "    return wrapper"
   ]
  },
  {
   "cell_type": "code",
   "execution_count": 2,
   "id": "91291bc5-7409-4530-8983-5f1977179b87",
   "metadata": {},
   "outputs": [],
   "source": [
    "# @decorator_function\n",
    "def hello_world():\n",
    "    print('Hello world!')\n",
    "\n",
    "# hello_world()"
   ]
  },
  {
   "cell_type": "code",
   "execution_count": 3,
   "id": "426cb2cd-8a20-4d08-ac55-fe3e6f38533f",
   "metadata": {},
   "outputs": [
    {
     "name": "stdout",
     "output_type": "stream",
     "text": [
      "Функция-обёртка!\n",
      "Оборачиваемая функция: <function hello_world at 0x103346040>\n",
      "Выполняем обёрнутую функцию...\n",
      "Hello world!\n",
      "Выходим из обёртки\n"
     ]
    }
   ],
   "source": [
    "hello_world = decorator_function(hello_world)\n",
    "hello_world()"
   ]
  },
  {
   "cell_type": "code",
   "execution_count": null,
   "id": "1c8e092c-954b-4638-995e-71c1d2e2ec45",
   "metadata": {},
   "outputs": [],
   "source": [
    "a"
   ]
  },
  {
   "cell_type": "code",
   "execution_count": 4,
   "id": "b5e0f578-5dbd-4b32-a758-bb312d29eec3",
   "metadata": {},
   "outputs": [
    {
     "data": {
      "text/plain": [
       "<function __main__.wrapper()>"
      ]
     },
     "execution_count": 4,
     "metadata": {},
     "output_type": "execute_result"
    }
   ],
   "source": [
    "def wrapper():\n",
    "    print('Функция-обёртка!')\n",
    "    print('Оборачиваемая функция: {}'.format(func))\n",
    "    print('Выполняем обёрнутую функцию...')\n",
    "    func()\n",
    "    print('Выходим из обёртки')\n",
    "wrapper"
   ]
  },
  {
   "cell_type": "code",
   "execution_count": null,
   "id": "eb252dd7-cbec-40e9-893a-4a2624aa1755",
   "metadata": {},
   "outputs": [],
   "source": []
  }
 ],
 "metadata": {
  "kernelspec": {
   "display_name": "Python 3 (ipykernel)",
   "language": "python",
   "name": "python3"
  },
  "language_info": {
   "codemirror_mode": {
    "name": "ipython",
    "version": 3
   },
   "file_extension": ".py",
   "mimetype": "text/x-python",
   "name": "python",
   "nbconvert_exporter": "python",
   "pygments_lexer": "ipython3",
   "version": "3.9.10"
  }
 },
 "nbformat": 4,
 "nbformat_minor": 5
}
