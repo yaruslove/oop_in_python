{
 "cells": [
  {
   "cell_type": "code",
   "execution_count": null,
   "id": "001a814d-d972-4bd8-b1f8-7523af7c7101",
   "metadata": {},
   "outputs": [],
   "source": [
    "class Lapti:\n",
    "    MOMYI=0\n",
    "    def __init__ (self):\n",
    "        self.__ogon=0\n",
    "        \n",
    "a=Lapti()\n",
    "b=Lapti()\n",
    "\n",
    "a.MOMYI=2\n",
    "print(a.MOMYI)\n",
    "b.MOMYI=1\n",
    "print(b.MOMYI)\n",
    "print(a.MOMYI)\n"
   ]
  },
  {
   "cell_type": "code",
   "execution_count": null,
   "id": "3146ab01-569a-41c6-90cf-3176436a1b22",
   "metadata": {},
   "outputs": [],
   "source": []
  },
  {
   "cell_type": "code",
   "execution_count": null,
   "id": "65e400e4-313f-420d-9ddd-b48d31b08d48",
   "metadata": {},
   "outputs": [],
   "source": []
  },
  {
   "cell_type": "code",
   "execution_count": null,
   "id": "60914887-de45-470c-b612-7d998a25916c",
   "metadata": {},
   "outputs": [],
   "source": [
    "class Book:\n",
    "    def __init__(self,title=str(),author=str(),pages=0,year=0):\n",
    "        self.title=title\n",
    "        self.author=author\n",
    "        self.pages=pages\n",
    "        self.year=year\n",
    "    \n",
    "    def  __setattr__ (self,key,value):\n",
    "        if key==\"title\" and isinstance(value,str):\n",
    "            object.__setattr__(self,key,value)\n",
    "        elif key==\"author\" and isinstance(value,str):\n",
    "            object.__setattr__(self,key,value)\n",
    "        elif key==\"pages\" and isinstance(value,int):\n",
    "            object.__setattr__(self,key,value)\n",
    "        elif key==\"year\" and isinstance(value,int):\n",
    "            object.__setattr__(self,key,value)\n",
    "        else:\n",
    "            raise TypeError(\"Неверный тип присваиваемых данных.\")\n",
    "            \n",
    "book = Book(\"Python ООП\", \"Сергей Балакирев\", 123, 2022)"
   ]
  },
  {
   "cell_type": "code",
   "execution_count": null,
   "id": "891edee4-7bac-42fd-b26d-75f8ca72d590",
   "metadata": {},
   "outputs": [],
   "source": []
  },
  {
   "cell_type": "code",
   "execution_count": null,
   "id": "0a3de65b-8fcc-48a9-aa77-bb09dff13676",
   "metadata": {},
   "outputs": [],
   "source": []
  },
  {
   "cell_type": "code",
   "execution_count": null,
   "id": "eee2622a-c7e4-430c-8f83-bc91c5ab463d",
   "metadata": {},
   "outputs": [],
   "source": [
    "class Shop:\n",
    "    def __init__ (self, shop_name):\n",
    "        self.name=shop_name\n",
    "        self.goods=list()\n",
    "    def add_product(self,product):\n",
    "        self.goods.append(product)\n",
    "        \n",
    "    def remove_product(self, product):\n",
    "        self.goods.remove(product)\n",
    "        \n",
    "class Product:\n",
    "    gloabal_id=0\n",
    "    __type_attr={\"name\":[str],\"weight\":(int,float),\"price\":(int,float),\"id\":[int]}\n",
    "    def __new__(cls, *args, **kwargs):\n",
    "        cls.gloabal_id+=1\n",
    "        return super().__new__(cls)\n",
    "    \n",
    "    def __init__ (self,name,weight, price):\n",
    "        self.id=self.gloabal_id-1\n",
    "        # check\n",
    "        self.name=name\n",
    "        self.weight=weight\n",
    "        self.price=price\n",
    "        \n",
    "    def __setattr__ (self,key,value):\n",
    "        if key in [\"price\",\"weight\"] and value<0:\n",
    "            raise TypeError(\"Неверный тип присваиваемых данных.\")\n",
    "        if key in self.__type_attr:            \n",
    "            if type(value) in self.__type_attr[key]:\n",
    "                object.__setattr__(self,key,value)\n",
    "            else:\n",
    "                raise TypeError(\"Неверный тип присваиваемых данных.\")\n",
    "        else:\n",
    "            raise TypeError(\"Неверный тип присваиваемых данных.\")\n",
    "\n",
    "    def __delattr__ (self,item):\n",
    "        if item==\"id\":\n",
    "            raise AttributeError(\"Атрибут id удалять запрещено.\")\n",
    "        else:\n",
    "            object.__delattr__(self,item)\n",
    "        \n",
    "    \n",
    "    # @classmethod\n",
    "    # def __get_id(cls):\n",
    "    #     return cls.id\n",
    "        "
   ]
  },
  {
   "cell_type": "code",
   "execution_count": null,
   "id": "67529e27-2af7-400a-acd6-9c9b385a9f70",
   "metadata": {},
   "outputs": [],
   "source": [
    "shop = Shop(\"Балакирев и К\")\n",
    "book = Product(\"Python ООП\", 100, 1024)\n",
    "shop.add_product(book)\n",
    "shop.add_product(Product(\"Python\", 150, 512))\n",
    "for p in shop.goods:\n",
    "    print(f\"{p.name}, {p.weight}, {p.price}\")"
   ]
  },
  {
   "cell_type": "code",
   "execution_count": null,
   "id": "67397da3-cd11-4315-98c1-6082cc66f157",
   "metadata": {},
   "outputs": [],
   "source": []
  },
  {
   "cell_type": "code",
   "execution_count": null,
   "id": "4ffe186b-626e-4848-8b96-bb9bf7d7fd93",
   "metadata": {},
   "outputs": [],
   "source": [
    "a={\"a\":[int],\"b\":2}\n",
    "\n",
    "type(\"c\") in  a[\"a\"]"
   ]
  },
  {
   "cell_type": "code",
   "execution_count": null,
   "id": "34736d4c-bc5a-4585-9510-e58f001fd4f5",
   "metadata": {},
   "outputs": [],
   "source": [
    "str in (int,float)"
   ]
  },
  {
   "cell_type": "code",
   "execution_count": null,
   "id": "98f0bc5a-8904-4039-a34b-1e1daff03c5d",
   "metadata": {},
   "outputs": [],
   "source": []
  },
  {
   "cell_type": "code",
   "execution_count": null,
   "id": "a9e80eda-26b3-4212-a9ad-3c55187185b3",
   "metadata": {},
   "outputs": [],
   "source": []
  },
  {
   "cell_type": "code",
   "execution_count": null,
   "id": "40d51613-c44b-42ca-a3fd-36d8d2507a23",
   "metadata": {},
   "outputs": [],
   "source": [
    "class Course:\n",
    "    "
   ]
  },
  {
   "cell_type": "code",
   "execution_count": null,
   "id": "cc2aeb1a-2662-42f3-9d22-0fca896f6e16",
   "metadata": {},
   "outputs": [],
   "source": [
    "class LessonItem:\n",
    "    __type_attr={\"title\":[str],\"practices\":[int],\"duration\":[int]}\n",
    "    def __init__ (self,title,practices, duration):\n",
    "        # check\n",
    "        self.title=title\n",
    "        self.practices=practices\n",
    "        self.duration=duration\n",
    "        \n",
    "    def __setattr__ (self,key,value):\n",
    "        if key in [\"practices\",\"duration\"] and value<0:\n",
    "            raise TypeError(\"Неверный тип присваиваемых данных.\")\n",
    "        if key in self.__type_attr:            \n",
    "            if type(value) in self.__type_attr[key]:\n",
    "                object.__setattr__(self,key,value)\n",
    "            else:\n",
    "                raise TypeError(\"Неверный тип присваиваемых данных.\")\n",
    "        else:\n",
    "            raise TypeError(\"Неверный тип присваиваемых данных.\")\n",
    "            \n",
    "    def __getattr__ (self,item):\n",
    "        if item in [\"__type_attr\",\"title\", \"practices\",\"duration\"]:\n",
    "            return object.__getattr__(self,item)\n",
    "        else:\n",
    "            return False\n",
    "    \n",
    "    def __delattr__ (self,item):\n",
    "        if item in [\"title\", \"practices\",\"duration\"]:\n",
    "            object.__delattr__(self,item)\n",
    "            \n",
    "class Module:\n",
    "    def __init__ (self,name):\n",
    "        self.name=name\n",
    "        self.lessons=list()\n",
    "        \n",
    "    def add_lesson(self, lesson):\n",
    "        self.lessons.append(lesson)\n",
    "        \n",
    "    def remove_lesson(self, indx):\n",
    "        del self.lessons[indx]\n",
    "\n",
    "    \n",
    "class Course:\n",
    "    def __init__ (self,name):\n",
    "        self.name=name\n",
    "        self.modules=list()\n",
    "        \n",
    "    def add_module(self, module):\n",
    "        self.modules.append(module)\n",
    "        \n",
    "    def remove_module(self, indx):\n",
    "        del self.modules[indx]"
   ]
  },
  {
   "cell_type": "code",
   "execution_count": null,
   "id": "f8028d04-e426-45a3-a152-4f015f239c99",
   "metadata": {},
   "outputs": [],
   "source": [
    "LessonItem(\"Урок 1\", 7, 1000)"
   ]
  },
  {
   "cell_type": "code",
   "execution_count": null,
   "id": "3e704ac9-74ea-4ad4-ada0-27c26c010367",
   "metadata": {},
   "outputs": [],
   "source": [
    "course = Course(\"Python ООП\")\n",
    "module_1 = Module(\"Часть первая\")\n",
    "module_1.add_lesson(LessonItem(\"Урок 1\", 7, 1000))\n",
    "module_1.add_lesson(LessonItem(\"Урок 2\", 10, 1200))\n",
    "module_1.add_lesson(LessonItem(\"Урок 3\", 5, 800))\n",
    "course.add_module(module_1)\n",
    "module_2 = Module(\"Часть вторая\")\n",
    "module_2.add_lesson(LessonItem(\"Урок 1\", 7, 1000))\n",
    "module_2.add_lesson(LessonItem(\"Урок 2\", 10, 1200))\n",
    "course.add_module(module_2)"
   ]
  },
  {
   "cell_type": "code",
   "execution_count": null,
   "id": "5b85096b-9eb9-4556-bea1-ee3eec24cb9e",
   "metadata": {},
   "outputs": [],
   "source": []
  },
  {
   "cell_type": "code",
   "execution_count": null,
   "id": "d064d8d3-a32c-4c43-bf7b-3bf29c974a81",
   "metadata": {},
   "outputs": [],
   "source": [
    "class Museum:\n",
    "    def __init__ (self,name):\n",
    "        self.name=name\n",
    "        self.exhibits=list()\n",
    "        \n",
    "    def add_exhibit(self, obj):\n",
    "        self.exhibits.append(obj)\n",
    "        \n",
    "    def remove_exhibit (self, obj):\n",
    "        self.exhibits.remove(obj)\n",
    "        \n",
    "    def get_info_exhibit(self,indx):\n",
    "        return f\"Описание экспоната {self.exhibits[indx].name}: {self.exhibits[indx].descr}\"\n",
    "    \n",
    "class Picture:\n",
    "    def __init__ (self,name,author,descr):\n",
    "        self.name=name\n",
    "        self.author=author\n",
    "        self.descr=descr\n",
    "        \n",
    "class Mummies:\n",
    "    def __init__ (self,name,location,descr):\n",
    "        self.name=name\n",
    "        self.location=location\n",
    "        self.descr=descr\n",
    "\n",
    "class Papyri:\n",
    "    def __init__ (self,name,date,descr):\n",
    "        self.name=name\n",
    "        self.date=date\n",
    "        self.descr=descr\n",
    "        \n",
    "  "
   ]
  },
  {
   "cell_type": "code",
   "execution_count": null,
   "id": "54b218ee-55a1-44ac-9d7a-cffaa61e33b3",
   "metadata": {},
   "outputs": [],
   "source": [
    "mus = Museum(\"Эрмитаж\")\n",
    "mus.add_exhibit(Picture(\"Балакирев с подписчиками пишет письмо иноземному султану\", \"Неизвестный автор\", \"Вдохновляющая, устрашающая, волнующая картина\"))\n",
    "mus.add_exhibit(Mummies(\"Балакирев\", \"Древняя Россия\", \"Просветитель XXI века, удостоенный мумификации\"))\n",
    "p = Papyri(\"Ученья для, не злата ради\", \"Древняя Россия\", \"Самое древнее найденное рукописное свидетельство о языках программирования\")\n",
    "mus.add_exhibit(p)\n",
    "for x in mus.exhibits:\n",
    "    print(x.descr)"
   ]
  },
  {
   "cell_type": "code",
   "execution_count": null,
   "id": "710b595a-ceb7-4f5e-96bf-1e5f614d2dca",
   "metadata": {},
   "outputs": [],
   "source": []
  },
  {
   "cell_type": "code",
   "execution_count": null,
   "id": "2f6bc43a-32d6-4091-8483-512ab31c723e",
   "metadata": {},
   "outputs": [],
   "source": []
  },
  {
   "cell_type": "code",
   "execution_count": null,
   "id": "01915bc1-b436-40ee-a9ac-bb1d63138cf0",
   "metadata": {},
   "outputs": [],
   "source": []
  },
  {
   "cell_type": "code",
   "execution_count": null,
   "id": "208f160e-8274-4435-b130-a8e7455fdbd2",
   "metadata": {},
   "outputs": [],
   "source": [
    "\n"
   ]
  },
  {
   "cell_type": "code",
   "execution_count": null,
   "id": "66950b1f-7e0c-4b30-8120-2717303edbe4",
   "metadata": {},
   "outputs": [],
   "source": [
    "app_1 = AppVK() # name = \"ВКонтакте\"\n",
    "app_2 = AppYouTube(1024) # name = \"YouTube\", memory_max = 1024\n",
    "app_3 = AppPhone({\"Балакирев\": 1234567890, \"Сергей\": 98450647365, \"Работа\": 112}) # name = \"Phone\", phone_list = словарь с контактами"
   ]
  },
  {
   "cell_type": "code",
   "execution_count": null,
   "id": "ae95b493-e61c-49b5-885f-c21c5518eedc",
   "metadata": {},
   "outputs": [],
   "source": [
    "sm = SmartPhone(\"Honor 1.0\")\n",
    "sm.add_app(AppVK())\n",
    "sm.add_app(AppVK())  # второй раз добавляться не должно\n",
    "sm.add_app(AppYouTube(2048))\n",
    "for a in sm.apps:\n",
    "    print(a.name)"
   ]
  },
  {
   "cell_type": "code",
   "execution_count": null,
   "id": "c3c50f24-25c6-4698-b84c-b1a8a60d4bf8",
   "metadata": {},
   "outputs": [],
   "source": [
    "[None]"
   ]
  },
  {
   "cell_type": "code",
   "execution_count": null,
   "id": "144599af-b09f-457e-81d1-529a3357acc0",
   "metadata": {},
   "outputs": [],
   "source": []
  },
  {
   "cell_type": "code",
   "execution_count": null,
   "id": "b42c7e84-9416-4177-929c-11caa106555a",
   "metadata": {},
   "outputs": [],
   "source": []
  },
  {
   "cell_type": "code",
   "execution_count": null,
   "id": "cd096c0c-4ff5-4929-811c-96577d1d57cb",
   "metadata": {},
   "outputs": [],
   "source": [
    "## 3_2_1"
   ]
  },
  {
   "cell_type": "code",
   "execution_count": null,
   "id": "c945d166-b792-4d85-ade6-17501b6863b1",
   "metadata": {},
   "outputs": [],
   "source": [
    "from random import randint,choice\n",
    "# import random\n",
    "\n",
    "\n",
    "class RandomPassword:\n",
    "    def __init__ (self,psw_chars, min_length, max_length):\n",
    "        self.psw_chars=psw_chars\n",
    "        self.min_length=min_length\n",
    "        self.max_length=max_length\n",
    "        \n",
    "    def __call__ (self, *args, **kwargs):\n",
    "        self.__psw=str()\n",
    "        list_chars=list(self.psw_chars)\n",
    "        n=randint(self.min_length, self.max_length)\n",
    "        for i in range(n):\n",
    "            self.__psw+=choice(list_chars)\n",
    "        return self.__psw\n",
    "\n",
    "min_length = 5\n",
    "max_length = 20\n",
    "psw_chars = \"qwertyuiopasdfghjklzxcvbnm0123456789!@#$%&*\"\n",
    "\n",
    "rnd = RandomPassword(psw_chars, min_length, max_length)\n",
    "\n",
    "lst_pass=[rnd() for i in range(3)]\n",
    "lst_pass"
   ]
  },
  {
   "cell_type": "code",
   "execution_count": null,
   "id": "7186a0ae-f912-4720-b327-18c3bfd27e0b",
   "metadata": {},
   "outputs": [],
   "source": [
    "\n"
   ]
  },
  {
   "cell_type": "code",
   "execution_count": null,
   "id": "aa4861cf-d520-429b-978a-dfa24b5c6a9f",
   "metadata": {},
   "outputs": [],
   "source": []
  },
  {
   "cell_type": "code",
   "execution_count": null,
   "id": "ab67db32-64bf-4ef4-86d4-867324e55489",
   "metadata": {},
   "outputs": [],
   "source": []
  },
  {
   "cell_type": "code",
   "execution_count": null,
   "id": "8505665d-c7c9-404b-a19f-3411820d0123",
   "metadata": {},
   "outputs": [],
   "source": []
  },
  {
   "cell_type": "code",
   "execution_count": null,
   "id": "0356e60d-1683-4b59-97b4-bd726d6d07f6",
   "metadata": {},
   "outputs": [],
   "source": [
    "## 3_2_2"
   ]
  },
  {
   "cell_type": "code",
   "execution_count": null,
   "id": "a4b66e9a-f277-4664-8b4c-62b9d5ac95fc",
   "metadata": {},
   "outputs": [],
   "source": [
    "class ImageFileAcceptor:\n",
    "    def __init__ (self,extensions):\n",
    "        self.extensions=extensions\n",
    "        \n",
    "    def __call__ (self, value):\n",
    "        if value[value.find(\".\")+1:] in self.extensions:\n",
    "            return True\n",
    "        else:\n",
    "            False"
   ]
  },
  {
   "cell_type": "code",
   "execution_count": null,
   "id": "5e8f7fa7-ffd5-4273-967e-899ac94c0ed4",
   "metadata": {},
   "outputs": [],
   "source": [
    "filenames = [\"boat.jpg\", \"web.png\", \"text.txt\", \"python.doc\", \"ava.jpg\", \"forest.jpeg\", \"eq_1.png\", \"eq_2.png\"]"
   ]
  },
  {
   "cell_type": "code",
   "execution_count": null,
   "id": "f6e64895-9434-49e2-9d76-ba8ddaa66cff",
   "metadata": {},
   "outputs": [],
   "source": [
    "extensions = ('jpg', 'bmp', 'jpeg')\n",
    "acceptor = ImageFileAcceptor(extensions)"
   ]
  },
  {
   "cell_type": "code",
   "execution_count": null,
   "id": "49449a6f-0712-4465-9e99-13c170556db9",
   "metadata": {},
   "outputs": [],
   "source": [
    "filenames = [\"boat.jpg\", \"web.png\", \"text.txt\", \"python.doc\", \"ava.jpg\", \"forest.jpeg\", \"eq_1.png\", \"eq_2.png\"]\n",
    "acceptor = ImageFileAcceptor(('jpg', 'bmp', 'jpeg'))\n",
    "image_filenames = filter(acceptor, filenames)\n",
    "print(list(image_filenames))  # [\"boat.jpg\", \"ava.jpg\", \"forest.jpeg\"]"
   ]
  },
  {
   "cell_type": "code",
   "execution_count": null,
   "id": "acced381-7b14-4161-8d1e-f82ed19ce9e5",
   "metadata": {},
   "outputs": [],
   "source": [
    "a=\"boat.jpg\"\n",
    "\n"
   ]
  },
  {
   "cell_type": "code",
   "execution_count": null,
   "id": "c2dd0e7f-d494-44c6-8fa6-e123c0bc8e4c",
   "metadata": {},
   "outputs": [],
   "source": []
  },
  {
   "cell_type": "code",
   "execution_count": null,
   "id": "18141a38-1649-476a-a1b8-bfbf1fbec3a1",
   "metadata": {},
   "outputs": [],
   "source": []
  },
  {
   "cell_type": "code",
   "execution_count": null,
   "id": "d3666e2f-fd4c-4a44-a8e4-435151236a59",
   "metadata": {},
   "outputs": [],
   "source": []
  },
  {
   "cell_type": "code",
   "execution_count": null,
   "id": "78fcb547-c5fa-455a-a111-ab5649014ce5",
   "metadata": {},
   "outputs": [],
   "source": [
    "### 3_2_3"
   ]
  },
  {
   "cell_type": "code",
   "execution_count": null,
   "id": "02e25c07-9002-45e5-8d29-74201b4480c2",
   "metadata": {},
   "outputs": [],
   "source": [
    "class LengthValidator:\n",
    "    def __init__ (self, min_length, max_length):\n",
    "        self.min_length=min_length\n",
    "        self.max_length=max_length\n",
    "        \n",
    "    def __call__ (self, value):\n",
    "        return self.min_length <= len(value)<= self.max_length\n",
    "    \n",
    "\n",
    "class CharsValidator:\n",
    "    def __init__ (self,chars):\n",
    "        self.chars=chars\n",
    "    \n",
    "    def __call__ (self, value):\n",
    "        return all([i in list(self.chars) for i in list(value)])"
   ]
  },
  {
   "cell_type": "code",
   "execution_count": null,
   "id": "3597149a-7706-4cb9-a2f9-89d276356a4a",
   "metadata": {},
   "outputs": [],
   "source": []
  },
  {
   "cell_type": "code",
   "execution_count": null,
   "id": "3bbf0fab-a041-4faf-9d63-a32f0f6129b8",
   "metadata": {},
   "outputs": [],
   "source": []
  },
  {
   "cell_type": "code",
   "execution_count": null,
   "id": "db8cbd0d-cc46-4645-9598-30b8dbec2d73",
   "metadata": {},
   "outputs": [],
   "source": [
    "### 3_2_4"
   ]
  },
  {
   "cell_type": "code",
   "execution_count": null,
   "id": "835bda85-a879-4661-8bfe-f80d8f1339ad",
   "metadata": {},
   "outputs": [],
   "source": [
    "class DigitRetrieve:\n",
    "    def __init__(self):\n",
    "        pass\n",
    "    \n",
    "    def __call__(self,stroch):\n",
    "        if stroch[0]==\"-\" and all([d.isdigit() for d in set(stroch[1:])]):\n",
    "            return -int(stroch[1:])\n",
    "        elif all([d.isdigit() for d in set(stroch)]):\n",
    "            return int(stroch)\n",
    "        else:\n",
    "            return None\n",
    "        "
   ]
  },
  {
   "cell_type": "code",
   "execution_count": null,
   "id": "5d461424-67d9-4683-8556-b60dbe1bbeb4",
   "metadata": {},
   "outputs": [],
   "source": [
    "st=\"12fg\"\n",
    "\n",
    "all([d.isdigit() for d in set(st)])"
   ]
  },
  {
   "cell_type": "code",
   "execution_count": null,
   "id": "67a1131b-d30b-48f6-b43c-bca7a3f51ccf",
   "metadata": {},
   "outputs": [],
   "source": [
    "def DigitRetrieve (stroch):\n",
    "    if stroch[0]==\"-\" and all([d.isdigit() for d in set(stroch[1:])]):\n",
    "        return -int(stroch[1:])\n",
    "    elif all([d.isdigit() for d in set(stroch)]):\n",
    "        return int(stroch)\n",
    "    else:\n",
    "        return None\n",
    "\n",
    "a=\"45.54\"\n",
    "chk_digit(a)"
   ]
  },
  {
   "cell_type": "code",
   "execution_count": null,
   "id": "1bdf9c69-597b-491b-a973-ae363d3eeb16",
   "metadata": {},
   "outputs": [],
   "source": [
    "a=\"45.54\"\n",
    "list_chsl=a.split(\".\")\n",
    "\n",
    "if len(list_chsl)==1:\n",
    "    return chk_digit(a)\n",
    "elif len(list_chsl)==2:\n",
    "    for i in list_chsl:\n",
    "        if chk_digit(i):\n",
    "            return 'не целое число)"
   ]
  },
  {
   "cell_type": "code",
   "execution_count": null,
   "id": "d2294235-a3a8-4e01-b6a6-25cda97a7733",
   "metadata": {},
   "outputs": [],
   "source": [
    "a=\"4554\"\n",
    "list_chsl=a.split(\".\")\n",
    "list_chsl\n",
    "# if len(list_chsl)==1"
   ]
  },
  {
   "cell_type": "code",
   "execution_count": null,
   "id": "75aec7aa-2272-4678-ae04-07202db8c60f",
   "metadata": {},
   "outputs": [],
   "source": [
    "\"-56\"[1:]"
   ]
  },
  {
   "cell_type": "code",
   "execution_count": null,
   "id": "8864c41f-1a8c-4ddb-80d2-25e2d871fccf",
   "metadata": {},
   "outputs": [],
   "source": [
    "a=\"4554\"\n",
    "-int(\"4554\")"
   ]
  },
  {
   "cell_type": "code",
   "execution_count": null,
   "id": "0696ecf0-eafb-4bc5-99a9-201593c132b1",
   "metadata": {},
   "outputs": [],
   "source": []
  },
  {
   "cell_type": "code",
   "execution_count": null,
   "id": "c362a123-9f29-401b-91d5-b0439f79c2b6",
   "metadata": {},
   "outputs": [],
   "source": [
    "class DigitRetrieve:\n",
    "    def __init__(self):\n",
    "        pass\n",
    "    \n",
    "    def __call__(self,stroch):\n",
    "        if stroch[0]==\"-\" and all([d.isdigit() for d in set(stroch[1:])]):\n",
    "            return -int(stroch[1:])\n",
    "        elif all([d.isdigit() for d in set(stroch)]):\n",
    "            return int(stroch)\n",
    "        else:\n",
    "            return None\n",
    "    \n",
    "dg = DigitRetrieve()\n",
    "d1 = dg(\"123\")   # 123 (целое число)\n",
    "d2 = dg(\"45.54\")   # None (не целое число)\n",
    "d3 = dg(\"-56\")   # -56 (целое число)\n",
    "d4 = dg(\"12fg\")  # None (не целое число)\n",
    "d5 = dg(\"abc\")   # None (не целое число)\n",
    "\n",
    "print(d1,d2,\n",
    "d3,\n",
    "d4,\n",
    "d5)"
   ]
  },
  {
   "cell_type": "code",
   "execution_count": null,
   "id": "7e15e3b4-0c24-4126-823c-a442aa2eba07",
   "metadata": {},
   "outputs": [],
   "source": [
    "st = [\"123\", \"abc\", \"-56.4\", \"0\", \"-5\"]\n",
    "digits = list(map(dg, st))  # [123, None, None, 0, -5]\n",
    "digits"
   ]
  },
  {
   "cell_type": "code",
   "execution_count": null,
   "id": "f992b290-9fed-4705-831b-c21be1e3d0c5",
   "metadata": {},
   "outputs": [],
   "source": []
  },
  {
   "cell_type": "code",
   "execution_count": null,
   "id": "0bed668d-509e-46f1-989f-dcba77f8f8c6",
   "metadata": {},
   "outputs": [],
   "source": []
  },
  {
   "cell_type": "code",
   "execution_count": null,
   "id": "18f1894f-6747-4fff-bf9f-d013562d9a0b",
   "metadata": {},
   "outputs": [],
   "source": []
  },
  {
   "cell_type": "code",
   "execution_count": null,
   "id": "60068971-247a-4113-a711-b60e71fdcde0",
   "metadata": {},
   "outputs": [],
   "source": [
    "### 3_2_5"
   ]
  },
  {
   "cell_type": "code",
   "execution_count": null,
   "id": "4209b67b-2173-4ade-9dd8-ab90c82f3286",
   "metadata": {},
   "outputs": [],
   "source": [
    "class RenderList:\n",
    "    def __init__ (self,type_list=\"ul\") :\n",
    "        self.type_list=type_list\n",
    "    def __call__ (self,lst):\n",
    "        nl = '\\n'\n",
    "        if self.type_list==\"ol\":\n",
    "            tag1=\"<ol>\"\n",
    "        else:\n",
    "            tag1=\"<ul>\"\n",
    "        html_txt=f\"{tag1}\"\n",
    "        for i in lst:\n",
    "            html_txt=f\"{html_txt}{nl}<li>{i}</li>\"\n",
    "        tag1=tag1.replace(\"<\",\"</\")\n",
    "        html_txt=f\"{html_txt}{nl}{tag1}\"\n",
    "        return html_txt\n",
    "            \n",
    "        \n",
    "        \n",
    "            "
   ]
  },
  {
   "cell_type": "code",
   "execution_count": null,
   "id": "14cc46b2-c4cc-429f-bd77-a3048a409aa5",
   "metadata": {},
   "outputs": [],
   "source": [
    "lst = [\"Пункт меню 1\", \"Пункт меню 2\", \"Пункт меню 3\"]\n",
    "render = RenderList(\"il\")\n",
    "html = render(lst)\n",
    "html"
   ]
  },
  {
   "cell_type": "code",
   "execution_count": null,
   "id": "96db349a-37f8-415d-93c2-edaad01b1c73",
   "metadata": {},
   "outputs": [],
   "source": []
  },
  {
   "cell_type": "code",
   "execution_count": null,
   "id": "ec36dc8a-3973-4e33-af6b-306e37af4a63",
   "metadata": {},
   "outputs": [],
   "source": []
  },
  {
   "cell_type": "code",
   "execution_count": null,
   "id": "4d7b94a7-9ff7-4ffd-bb94-3cf330ab0ebf",
   "metadata": {},
   "outputs": [],
   "source": [
    "## 3_2_6"
   ]
  },
  {
   "cell_type": "code",
   "execution_count": 5,
   "id": "8e799d8d-c3dd-45c5-a927-c71bf113e670",
   "metadata": {},
   "outputs": [],
   "source": [
    "class HandlerGET:\n",
    "    def __init__(self, func):\n",
    "        self.func=func\n",
    "        \n",
    "    def __call__ (self,request,*args,**kwargs):\n",
    "        if request.get ('method', 'GET')== 'GET':\n",
    "            return self.get(self.func,request)\n",
    "        else:\n",
    "            return None\n",
    "        # else:\n",
    "        #     self.get(self.__fn,request)\n",
    "            \n",
    "    def get(self,func,request,*args,**kwargs):\n",
    "        data=func(request)\n",
    "        return f\"GET: {data}\"\n"
   ]
  },
  {
   "cell_type": "code",
   "execution_count": 8,
   "id": "c6cc3c97-0b14-4b92-9f42-222480dba968",
   "metadata": {},
   "outputs": [
    {
     "data": {
      "text/plain": [
       "'GET: Сергей Балакирев'"
      ]
     },
     "execution_count": 8,
     "metadata": {},
     "output_type": "execute_result"
    }
   ],
   "source": [
    "@HandlerGET\n",
    "def contact(request):\n",
    "    return \"Сергей Балакирев\"\n",
    "\n",
    "res = contact({\"method\": \"GET\", \"url\": \"contact.html\"})\n",
    "res"
   ]
  },
  {
   "cell_type": "code",
   "execution_count": null,
   "id": "55beaf96-69ef-4dd3-b9c3-06d5aa1b96de",
   "metadata": {},
   "outputs": [],
   "source": []
  },
  {
   "cell_type": "code",
   "execution_count": null,
   "id": "f923aad8-8c1f-4f56-a17f-035f7b1adee5",
   "metadata": {},
   "outputs": [],
   "source": []
  },
  {
   "cell_type": "code",
   "execution_count": null,
   "id": "fb0ec111-504d-413a-9765-e49d001067d8",
   "metadata": {},
   "outputs": [],
   "source": [
    "## 3_2_7"
   ]
  },
  {
   "cell_type": "code",
   "execution_count": 12,
   "id": "6a97585b-270b-45ee-9904-9d7b28e405e5",
   "metadata": {},
   "outputs": [],
   "source": [
    "class Handler:\n",
    "    def __init__(self, methods):\n",
    "        self.__methods=methods\n",
    "\n",
    "    def __call__(self, func):\n",
    "        def wrapper(request, *args, **kwargs):\n",
    "            m=request.get(\"method\",\"GET\")\n",
    "            if m in self.__methods:\n",
    "                m=m.lower()\n",
    "                return self.__getattribute__(m)(func, request)\n",
    "        return wrapper\n",
    "\n",
    "    def get(self, func, request, *args, **kwargs):\n",
    "        data=func(request)\n",
    "        return f\"GET: {data}\"\n",
    "    \n",
    "    def post(self, func, request, *args, **kwargs):\n",
    "        data=func(request)\n",
    "        return f\"POST: {data}\""
   ]
  },
  {
   "cell_type": "code",
   "execution_count": null,
   "id": "e37d1447-658d-49ba-96cb-e6329d6e5475",
   "metadata": {},
   "outputs": [],
   "source": []
  },
  {
   "cell_type": "code",
   "execution_count": null,
   "id": "087507f5-3080-4ab5-aea3-22f87355e5e0",
   "metadata": {},
   "outputs": [],
   "source": []
  },
  {
   "cell_type": "code",
   "execution_count": null,
   "id": "c7956dbb-1870-4467-aab5-a0ad9485ad38",
   "metadata": {},
   "outputs": [],
   "source": []
  }
 ],
 "metadata": {
  "kernelspec": {
   "display_name": "Python 3 (ipykernel)",
   "language": "python",
   "name": "python3"
  },
  "language_info": {
   "codemirror_mode": {
    "name": "ipython",
    "version": 3
   },
   "file_extension": ".py",
   "mimetype": "text/x-python",
   "name": "python",
   "nbconvert_exporter": "python",
   "pygments_lexer": "ipython3",
   "version": "3.9.10"
  }
 },
 "nbformat": 4,
 "nbformat_minor": 5
}
