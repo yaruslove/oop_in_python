{
 "cells": [
  {
   "cell_type": "code",
   "execution_count": null,
   "id": "2d22c80c-87a7-4860-90ec-5f17e285ad2b",
   "metadata": {},
   "outputs": [],
   "source": [
    "class Loader:\n",
    "    @staticmethod\n",
    "    def parse_format(string, factory):\n",
    "        seq = factory.build_sequence()\n",
    "        for sub in string.split(\",\"):\n",
    "            item = factory.build_number(sub)\n",
    "            seq.append(item)\n",
    "\n",
    "        return seq\n",
    "    \n",
    "class Factory:\n",
    "    @staticmethod\n",
    "    def build_sequence():\n",
    "        return list()\n",
    "    @staticmethod\n",
    "    def build_number(strchka):\n",
    "        return int(strchka)\n",
    "    \n",
    "res = Loader.parse_format(\"4, 5, -6\", Factory)\n",
    "res"
   ]
  },
  {
   "cell_type": "code",
   "execution_count": null,
   "id": "07502083-7654-474f-aa35-e1b08379bf2b",
   "metadata": {},
   "outputs": [],
   "source": []
  },
  {
   "cell_type": "code",
   "execution_count": null,
   "id": "ddbec04b-b5d4-4d6c-9222-345575808a96",
   "metadata": {},
   "outputs": [],
   "source": []
  },
  {
   "cell_type": "code",
   "execution_count": null,
   "id": "66b72578-dad0-4783-a6e8-82340492d100",
   "metadata": {},
   "outputs": [],
   "source": [
    "False and False"
   ]
  },
  {
   "cell_type": "code",
   "execution_count": null,
   "id": "da91a05c-6016-4e35-b047-86465b21de11",
   "metadata": {},
   "outputs": [],
   "source": [
    "import string \n",
    "CHARS=\"абвгдеёжзийклмнопрстуфхцчшщьыъэюя \"+string.ascii_lowercase\n",
    "CHARS_CORRECT=CHARS+CHARS.upper().replace(\" \",\"\")+\"1234567890\"\n",
    "CHARS_CORRECT"
   ]
  },
  {
   "cell_type": "code",
   "execution_count": null,
   "id": "d7f554b4-42dd-4d04-bff5-85d6107d2db2",
   "metadata": {},
   "outputs": [],
   "source": [
    "name=\"Egor!\"\n",
    "name=set(list(name))\n",
    "name\n",
    "\n",
    "\n",
    "all([i in new_set for i in name])"
   ]
  },
  {
   "cell_type": "code",
   "execution_count": null,
   "id": "4e2e9389-6fbf-4622-a46b-3220f3592eb7",
   "metadata": {},
   "outputs": [],
   "source": [
    "new_set=set(list(CHARS_CORRECT))"
   ]
  },
  {
   "cell_type": "code",
   "execution_count": null,
   "id": "daa447dd-7195-48d9-ad3b-0e9aa481c023",
   "metadata": {},
   "outputs": [],
   "source": [
    "new_set"
   ]
  },
  {
   "cell_type": "code",
   "execution_count": null,
   "id": "d28c63bb-5e94-43d9-9a28-1931c862675c",
   "metadata": {},
   "outputs": [],
   "source": []
  },
  {
   "cell_type": "code",
   "execution_count": null,
   "id": "472e3ea7-789d-4bdc-b087-5ecc1e580a0c",
   "metadata": {},
   "outputs": [],
   "source": [
    "from string import ascii_lowercase, digits\n",
    "import string \n",
    "\n",
    "\n",
    "# здесь объявляйте классы TextInput и PasswordInput\n",
    "\n",
    "class TextInput:\n",
    "    CHARS=\"абвгдеёжзийклмнопрстуфхцчшщьыъэюя \"+string.ascii_lowercase+\"1234567890\"\n",
    "    CHARS_CORRECT=CHARS+CHARS.upper()\n",
    "    new_set=set(list(CHARS_CORRECT))\n",
    "    def __init__ (self,name,size=10):\n",
    "        self.check_name(name)\n",
    "        self.name=name\n",
    "        self.size=size\n",
    "    def get_html(self):\n",
    "        return f\"<p class='login'>{self.name}: <input type='text' size={self.size} />\"\n",
    "    \n",
    "    @classmethod\n",
    "    def check_name(cls, name):\n",
    "        lengh= 3<=len(name)<=50\n",
    "        crct=all([i in cls.new_set for i in name])\n",
    "        if lengh and crct:\n",
    "            return True\n",
    "        else:\n",
    "            raise ValueError('некорректное имя поля')\n",
    "\n",
    "            \n",
    "class PasswordInput:\n",
    "    CHARS=\"абвгдеёжзийклмнопрстуфхцчшщьыъэюя \"+string.ascii_lowercase+\"1234567890\"\n",
    "    CHARS_CORRECT=CHARS+CHARS.upper()\n",
    "    new_set=set(list(CHARS_CORRECT))\n",
    "    def __init__ (self,name,size=10):\n",
    "        self.check_name(name)\n",
    "        self.name=name\n",
    "        self.size=size\n",
    "    def get_html(self):\n",
    "        return f\"<p class='password'>{self.name}: <input type='text' size={self.size} />\"\n",
    "    \n",
    "    @classmethod\n",
    "    def check_name(cls, name):\n",
    "        lengh= 3<=len(name)<=50\n",
    "        crct=all([i in cls.new_set for i in name])\n",
    "        if lengh and crct:\n",
    "            return True\n",
    "        else:\n",
    "            raise ValueError('некорректное имя поля')            \n",
    "\n",
    "class FormLogin:\n",
    "    def __init__(self, lgn, psw):\n",
    "        self.login = lgn\n",
    "        self.password = psw\n",
    "\n",
    "    def render_template(self):\n",
    "        return \"\\n\".join(['<form action=\"#\">', self.login.get_html(), self.password.get_html(), '</form>'])\n",
    "\n",
    "\n",
    "# эти строчки не менять\n",
    "login = FormLogin(TextInput(\"Логин\"), PasswordInput(\"Пароль\"))\n",
    "html = login.render_template()"
   ]
  },
  {
   "cell_type": "code",
   "execution_count": null,
   "id": "2857b56c-2875-4301-a572-33511f037215",
   "metadata": {},
   "outputs": [],
   "source": []
  },
  {
   "cell_type": "code",
   "execution_count": null,
   "id": "0df12474-5ed0-4f5d-84de-f3a24e56c123",
   "metadata": {},
   "outputs": [],
   "source": [
    "4!=4"
   ]
  },
  {
   "cell_type": "code",
   "execution_count": 1,
   "id": "5fd71ee4-a958-45cf-8576-d5eba924cb38",
   "metadata": {},
   "outputs": [],
   "source": [
    "from string import ascii_uppercase\n",
    "\n",
    "class CardCheck:\n",
    "    \n",
    "    @staticmethod\n",
    "    def check_card_number (cn):\n",
    "        if len(cn.split(\"-\"))!=4:\n",
    "            return False\n",
    "        \n",
    "        for i in cn.split(\"-\"):\n",
    "            for j in i:\n",
    "                if not j.isdigit():\n",
    "                    return False\n",
    "            return True\n",
    "\n",
    "    @staticmethod\n",
    "    def check_name (cn):\n",
    "        if len(cn.split(\" \"))!=2:\n",
    "            return False\n",
    "        for i in cn.split(\" \"):\n",
    "            for j in i:\n",
    "                if not j in set(ascii_uppercase):\n",
    "                    return False\n",
    "            return True"
   ]
  },
  {
   "cell_type": "code",
   "execution_count": 7,
   "id": "e9d552b9-fe0a-45a1-a6d7-cdaf5b92d0f7",
   "metadata": {},
   "outputs": [
    {
     "data": {
      "text/plain": [
       "False"
      ]
     },
     "execution_count": 7,
     "metadata": {},
     "output_type": "execute_result"
    }
   ],
   "source": [
    "is_name = CardCheck.check_name(\"SERGE1I BALAKIREV\")\n",
    "is_name"
   ]
  },
  {
   "cell_type": "code",
   "execution_count": null,
   "id": "c5c84dbc-0edd-4c83-9a40-a5cee04b0ecf",
   "metadata": {},
   "outputs": [],
   "source": []
  },
  {
   "cell_type": "code",
   "execution_count": null,
   "id": "ca76593b-6146-4173-bf8c-509467cd1c90",
   "metadata": {},
   "outputs": [],
   "source": [
    "for i in \"1234-5678-9012-0000\".split(\"-\"):\n",
    "    for j in i:\n",
    "        if not j.isdigit():\n",
    "            return False\n",
    "    return True"
   ]
  },
  {
   "cell_type": "code",
   "execution_count": null,
   "id": "9673072f-a95e-43ca-b1ce-62bf85631fab",
   "metadata": {},
   "outputs": [],
   "source": [
    "tname=\"SERGEI BALAKIREV\"\n",
    "\n",
    "len(tname.split(\" \"))==2\n",
    "\n",
    "ascii_uppercase\n",
    "\n",
    "\n",
    "for i in tname.split(\" \"):\n",
    "    for j in i:\n",
    "        if not j in set(ascii_uppercase):\n",
    "            return False\n",
    "    return True"
   ]
  },
  {
   "cell_type": "code",
   "execution_count": null,
   "id": "4849b29d-918d-4837-aab0-93da11878eaa",
   "metadata": {},
   "outputs": [],
   "source": [
    "True and False"
   ]
  },
  {
   "cell_type": "code",
   "execution_count": null,
   "id": "bc497758-d1d1-4503-aecf-c0fdc4dfd02e",
   "metadata": {},
   "outputs": [],
   "source": []
  },
  {
   "cell_type": "code",
   "execution_count": null,
   "id": "1cbd0ae8-c8f5-4a76-8cd9-f96f79b561de",
   "metadata": {},
   "outputs": [],
   "source": [
    "set(ascii_uppercase)"
   ]
  },
  {
   "cell_type": "code",
   "execution_count": null,
   "id": "58bf8ac4-48c2-4097-a139-6ca5257887ac",
   "metadata": {},
   "outputs": [],
   "source": []
  },
  {
   "cell_type": "code",
   "execution_count": null,
   "id": "b7763231-1c5f-4804-82a7-59a0983c80bb",
   "metadata": {},
   "outputs": [],
   "source": []
  },
  {
   "cell_type": "code",
   "execution_count": 13,
   "id": "a5edecf3-a04f-4d29-aaf1-2d3166b1f917",
   "metadata": {},
   "outputs": [
    {
     "name": "stdout",
     "output_type": "stream",
     "text": [
      "воспроизведение видео Python\n",
      "воспроизведение видео Python ООП\n"
     ]
    }
   ],
   "source": [
    "class Video:\n",
    "    def create(self, name):\n",
    "        self.name=name\n",
    "    def play(self):\n",
    "        print( f\"воспроизведение видео {self.name}\")\n",
    "              \n",
    "class YouTube:\n",
    "    videos=list()\n",
    "    @classmethod\n",
    "    def add_video(cls, video):\n",
    "        cls.videos.append(video)\n",
    "    @classmethod\n",
    "    def play(cls, video_indx):\n",
    "        cls.videos[video_indx].play()\n",
    "    \n",
    "v1= Video()\n",
    "v1.create(\"Python\")\n",
    "v2= Video()\n",
    "v2.create(\"Python ООП\")\n",
    "\n",
    "\n",
    "YouTube.add_video(v1)\n",
    "YouTube.add_video(v2)\n",
    "\n",
    "YouTube.play(0)\n",
    "YouTube.play(1)"
   ]
  },
  {
   "cell_type": "code",
   "execution_count": 10,
   "id": "8d266ea3-9bac-4ae8-b974-177037b92fd4",
   "metadata": {},
   "outputs": [
    {
     "name": "stdout",
     "output_type": "stream",
     "text": [
      "воспроизведение видео Python ООП\n"
     ]
    }
   ],
   "source": [
    "v2.play()"
   ]
  },
  {
   "cell_type": "code",
   "execution_count": null,
   "id": "c1cb1392-9f00-4295-b80f-5d41c30b43a5",
   "metadata": {},
   "outputs": [],
   "source": []
  }
 ],
 "metadata": {
  "kernelspec": {
   "display_name": "Python 3 (ipykernel)",
   "language": "python",
   "name": "python3"
  },
  "language_info": {
   "codemirror_mode": {
    "name": "ipython",
    "version": 3
   },
   "file_extension": ".py",
   "mimetype": "text/x-python",
   "name": "python",
   "nbconvert_exporter": "python",
   "pygments_lexer": "ipython3",
   "version": "3.9.10"
  }
 },
 "nbformat": 4,
 "nbformat_minor": 5
}
