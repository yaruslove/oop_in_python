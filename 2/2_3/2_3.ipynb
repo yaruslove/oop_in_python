{
 "cells": [
  {
   "cell_type": "code",
   "execution_count": null,
   "id": "98b68262-3c4b-4f59-b666-7f4ce219435b",
   "metadata": {
    "tags": []
   },
   "outputs": [],
   "source": [
    "# class Things:\n",
    "#     def __set_name__ (self, owner, name):\n",
    "#         self.name = \"__\"+name\n",
    "#     def __get__(self, instance, owner): \n",
    "#         return getattr(instance, self.name)\n",
    "#     def _hide_get (self,instance,owner):\n",
    "#         return getattr(instance,self.name)\n",
    "    \n",
    "#     def _hide_set(self, instance, value):\n",
    "#         self.verify_coord(value)\n",
    "#         setattr(instance, self.name, value)"
   ]
  },
  {
   "cell_type": "code",
   "execution_count": null,
   "id": "e2b075cd-04d1-4d8d-971e-74db9f0a1232",
   "metadata": {},
   "outputs": [],
   "source": []
  },
  {
   "cell_type": "code",
   "execution_count": 5,
   "id": "e45c6410-0d8a-466f-91c0-9aa2de7238b9",
   "metadata": {},
   "outputs": [],
   "source": [
    "class Bag:\n",
    "    def __init__ (self,max_weight):\n",
    "        self.max_weight=max_weight\n",
    "        self.__things=list()\n",
    "        self.__sum_weight=0\n",
    "        \n",
    "    \n",
    "    def weight_checker (self,ad):\n",
    "        return self.max_weight>self.__sum_weight+ad\n",
    "        \n",
    "    \n",
    "    def add_thing(self, thing):\n",
    "        if self.weight_checker(thing.weight):\n",
    "            self.__things.append(thing)\n",
    "            self.__sum_weight+=thing.weight\n",
    "    \n",
    "    def remove_thing(self, indx):\n",
    "        self.__sum_weight=self.__sum_weight-self.__things[indx].weight\n",
    "        del self.__things[indx]\n",
    "        \n",
    "    def get_total_weight(self):\n",
    "        return self.__sum_weight\n",
    "    \n",
    "    @property\n",
    "    def things(self):\n",
    "        return self.__things\n",
    "        \n",
    "class Thing:\n",
    "    def __init__ (self,name,weight):\n",
    "        self.name=name\n",
    "        self.weight=weight\n",
    "    "
   ]
  },
  {
   "cell_type": "code",
   "execution_count": 6,
   "id": "520d219b-c562-4c8d-b817-d2fb9f9ba01b",
   "metadata": {},
   "outputs": [
    {
     "name": "stdout",
     "output_type": "stream",
     "text": [
      "Книга по Python: 100\n",
      "Котелок: 500\n",
      "Спички: 20\n",
      "Бумага: 100\n"
     ]
    }
   ],
   "source": [
    "bag = Bag(1000)\n",
    "bag.add_thing(Thing(\"Книга по Python\", 100))\n",
    "bag.add_thing(Thing(\"Котелок\", 500))\n",
    "bag.add_thing(Thing(\"Спички\", 20))\n",
    "bag.add_thing(Thing(\"Бумага\", 100))\n",
    "w = bag.get_total_weight()\n",
    "for t in bag.things:\n",
    "    print(f\"{t.name}: {t.weight}\")\n",
    "    \n",
    "    "
   ]
  },
  {
   "cell_type": "code",
   "execution_count": null,
   "id": "73c8c35d-9972-4c78-866c-ae0fae4137e5",
   "metadata": {},
   "outputs": [],
   "source": []
  },
  {
   "cell_type": "code",
   "execution_count": null,
   "id": "6a40cced-b6d8-434f-a618-daf233f27852",
   "metadata": {},
   "outputs": [],
   "source": [
    "a=2\n",
    "a=\"ogon\"\n"
   ]
  },
  {
   "cell_type": "code",
   "execution_count": null,
   "id": "59c8397e-0e57-4da4-b0db-e17607a70e3b",
   "metadata": {},
   "outputs": [],
   "source": []
  }
 ],
 "metadata": {
  "kernelspec": {
   "display_name": "Python 3 (ipykernel)",
   "language": "python",
   "name": "python3"
  },
  "language_info": {
   "codemirror_mode": {
    "name": "ipython",
    "version": 3
   },
   "file_extension": ".py",
   "mimetype": "text/x-python",
   "name": "python",
   "nbconvert_exporter": "python",
   "pygments_lexer": "ipython3",
   "version": "3.9.10"
  }
 },
 "nbformat": 4,
 "nbformat_minor": 5
}
