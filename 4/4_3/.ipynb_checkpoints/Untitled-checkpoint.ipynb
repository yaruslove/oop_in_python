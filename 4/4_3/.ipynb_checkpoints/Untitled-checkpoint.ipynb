{
 "cells": [
  {
   "cell_type": "code",
   "execution_count": 1,
   "id": "185a683c-850f-4aad-8c78-80dfb5c636a3",
   "metadata": {},
   "outputs": [],
   "source": [
    "def decorator_function(func):\n",
    "    def wrapper():\n",
    "        print('Функция-обёртка!')\n",
    "        print('Оборачиваемая функция: {}'.format(func))\n",
    "        print('Выполняем обёрнутую функцию...')\n",
    "        func()\n",
    "        print('Выходим из обёртки')\n",
    "    return wrapper"
   ]
  },
  {
   "cell_type": "code",
   "execution_count": 3,
   "id": "91291bc5-7409-4530-8983-5f1977179b87",
   "metadata": {},
   "outputs": [
    {
     "name": "stdout",
     "output_type": "stream",
     "text": [
      "Функция-обёртка!\n",
      "Оборачиваемая функция: <function hello_world at 0x107d77af0>\n",
      "Выполняем обёрнутую функцию...\n",
      "Hello world!\n",
      "Выходим из обёртки\n"
     ]
    }
   ],
   "source": [
    "@decorator_function\n",
    "def hello_world():\n",
    "    print('Hello world!')\n",
    "\n",
    "a=hello_world()"
   ]
  },
  {
   "cell_type": "code",
   "execution_count": null,
   "id": "426cb2cd-8a20-4d08-ac55-fe3e6f38533f",
   "metadata": {},
   "outputs": [],
   "source": [
    "Функция-обёртка!\n",
    "Оборачиваемая функция: <function hello_world at 0x107d77700>\n",
    "Выполняем обёрнутую функцию...\n",
    "Hello world!\n",
    "Выходим из обёртки\n"
   ]
  }
 ],
 "metadata": {
  "kernelspec": {
   "display_name": "Python 3 (ipykernel)",
   "language": "python",
   "name": "python3"
  },
  "language_info": {
   "codemirror_mode": {
    "name": "ipython",
    "version": 3
   },
   "file_extension": ".py",
   "mimetype": "text/x-python",
   "name": "python",
   "nbconvert_exporter": "python",
   "pygments_lexer": "ipython3",
   "version": "3.9.10"
  }
 },
 "nbformat": 4,
 "nbformat_minor": 5
}
