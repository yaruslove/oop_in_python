{
 "cells": [
  {
   "cell_type": "code",
   "execution_count": null,
   "id": "531411ab-1ffc-4376-97b0-1bef2cbd7347",
   "metadata": {},
   "outputs": [],
   "source": [
    "## 3_3_1.py"
   ]
  },
  {
   "cell_type": "code",
   "execution_count": null,
   "id": "02dae7d3-983c-468b-91b0-535e3c571206",
   "metadata": {},
   "outputs": [],
   "source": [
    "import sys\n",
    "\n",
    "# здесь пишите программу\n",
    "class Book:\n",
    "    def __init__ (self,title, author, pages):\n",
    "        self.title=title\n",
    "        self.author=author\n",
    "        self.pages=pages\n",
    "    \n",
    "    def __str__(self):\n",
    "        return f\"Книга: {self.title}; {self.author}; {str(self.pages)}\"\n",
    "\n",
    "lst_in = list(map(str.strip, sys.stdin.readlines())) # считывание списка из входного потока (эту строчку не менять)\n",
    "\n",
    "book = Book(lst_in[0], lst_in[1], lst_in[2])\n",
    "print(book)"
   ]
  },
  {
   "cell_type": "code",
   "execution_count": null,
   "id": "36eef274-b171-4236-8d9f-65eac7bd0d40",
   "metadata": {},
   "outputs": [],
   "source": []
  },
  {
   "cell_type": "code",
   "execution_count": null,
   "id": "aff38c47-16fb-43e4-95da-4c6177248518",
   "metadata": {},
   "outputs": [],
   "source": []
  },
  {
   "cell_type": "code",
   "execution_count": null,
   "id": "78497c6d-1d9e-4592-8c23-964470f2fbfd",
   "metadata": {},
   "outputs": [],
   "source": [
    "## 3_3_2.py"
   ]
  },
  {
   "cell_type": "code",
   "execution_count": null,
   "id": "e686f547-6e52-4abc-a22c-421dad8fa812",
   "metadata": {},
   "outputs": [],
   "source": [
    "class Model:\n",
    "    def __init__ (self):\n",
    "        self.st=\"Model\"\n",
    "    \n",
    "    def query(self, **kwargs):\n",
    "        self.st=str(\"Model:\")\n",
    "        for key,vaue in kwargs.items():\n",
    "            self.st+=f\" {key} = {vaue},\"\n",
    "        self.st=self.st[:-1]\n",
    "    \n",
    "    def __str__(self):\n",
    "        return self.st"
   ]
  },
  {
   "cell_type": "code",
   "execution_count": null,
   "id": "6a3322eb-8af4-441c-a34a-9aa1f6cf36bc",
   "metadata": {},
   "outputs": [],
   "source": [
    "a=\"Model: field_1 = value_1,\"\n",
    "a[:-1]"
   ]
  },
  {
   "cell_type": "code",
   "execution_count": null,
   "id": "f94185b6-230b-4377-b7d8-4a45bdc0420b",
   "metadata": {},
   "outputs": [],
   "source": []
  },
  {
   "cell_type": "code",
   "execution_count": null,
   "id": "4da7ce78-c2e4-4690-bfaf-e9dd1c585157",
   "metadata": {},
   "outputs": [],
   "source": [
    "## 3_3_3.py"
   ]
  },
  {
   "cell_type": "code",
   "execution_count": null,
   "id": "129cad70-2592-48d8-9dcb-a06411c040b8",
   "metadata": {},
   "outputs": [],
   "source": [
    "class WordString:\n",
    "    def __init__ (self,contxt=None):\n",
    "        if contxt!=None:\n",
    "            self.__setattr__(\"string\",contxt)\n",
    "\n",
    "    def __setattr__(self,key,value):\n",
    "        if key==\"string\":\n",
    "            self.__list_of_word(value)\n",
    "        object.__setattr__(self,key,value)\n",
    "                   \n",
    "    def __list_of_word(self,value):\n",
    "        self.pure_list=list()\n",
    "        for i in value.split(\" \"):\n",
    "            if i!=\"\":\n",
    "                self.pure_list.append(i)\n",
    "\n",
    "    def __len__(self):\n",
    "        return len(self.pure_list)\n",
    "    \n",
    "    def __call__(self, number):\n",
    "        if isinstance(number, int) and number>=0:\n",
    "            return self.pure_list[number]\n",
    "    "
   ]
  },
  {
   "cell_type": "code",
   "execution_count": null,
   "id": "94fb051c-9e21-4995-a99c-f44457f8f103",
   "metadata": {},
   "outputs": [],
   "source": [
    "class WordString:\n",
    "    def __init__ (self,contxt=None):\n",
    "        if contxt!=None:\n",
    "            self.string=contxt\n",
    "\n",
    "    # def __setattr__(self,key,value):\n",
    "    #     if key==\"string\":\n",
    "    #         self.__list_of_word(value)\n",
    "    #     object.__setattr__(self,key,value)\n",
    "    \n",
    "    @property\n",
    "    def string(self):\n",
    "        return self.__string\n",
    "    \n",
    "    @string.setter\n",
    "    def string(self, string):\n",
    "        self.__list_of_word(string)\n",
    "        self.__string = string\n",
    "                   \n",
    "    def __list_of_word(self,value):\n",
    "        self.pure_list=list()\n",
    "        for i in value.split(\" \"):\n",
    "            if i!=\"\":\n",
    "                self.pure_list.append(i)\n",
    "\n",
    "    def __len__(self):\n",
    "        return len(self.pure_list)\n",
    "    \n",
    "    def __call__(self, number):\n",
    "        if isinstance(number, int) and number>=0:\n",
    "            return self.pure_list[number] "
   ]
  },
  {
   "cell_type": "code",
   "execution_count": null,
   "id": "3e376e15-8999-4bf9-bce0-353d11e60ab9",
   "metadata": {},
   "outputs": [],
   "source": [
    "words = WordString()\n",
    "words.string = \"Курс по Python ООП\"\n",
    "n = len(words)\n",
    "first = \"\" if n == 0 else words(0)\n",
    "print(words.string)\n",
    "print(f\"Число слов: {n}; первое слово: {first}\")"
   ]
  },
  {
   "cell_type": "code",
   "execution_count": null,
   "id": "92bccf60-86a1-4afb-b7d1-690229644da0",
   "metadata": {},
   "outputs": [],
   "source": [
    "print(words.string)"
   ]
  },
  {
   "cell_type": "code",
   "execution_count": null,
   "id": "edfaca15-a2f4-475e-b260-b966f478f3ad",
   "metadata": {},
   "outputs": [],
   "source": []
  },
  {
   "cell_type": "code",
   "execution_count": null,
   "id": "7e5fc4b6-8c2a-4a5f-a46d-7b09b871351d",
   "metadata": {},
   "outputs": [],
   "source": [
    "## 3_4"
   ]
  },
  {
   "cell_type": "code",
   "execution_count": 6,
   "id": "c32d89f4-bca7-42bf-830f-8f7f44bab148",
   "metadata": {},
   "outputs": [],
   "source": [
    "class ObjList:\n",
    "    def __init__ (self,data):\n",
    "        self.__data=\"\"\n",
    "        self.data=data\n",
    "        self.__prev=self.__next=None\n",
    "\n",
    "    @property\n",
    "    def data(self):\n",
    "        return self.__data\n",
    "    \n",
    "    @data.setter\n",
    "    def data(self,value):\n",
    "        if type(value)==str:\n",
    "            self.__data=value\n",
    "    \n",
    "    @property\n",
    "    def prev(self):\n",
    "        return self.__prev\n",
    "    @prev.setter\n",
    "    def prev(self,obj):\n",
    "        if type(obj) in (ObjList, type(None)):\n",
    "            self.__prev=obj   \n",
    "\n",
    "    @property\n",
    "    def next(self):\n",
    "        return self.__next\n",
    "    @next.setter\n",
    "    def next(self,obj):\n",
    "        if type(obj) in (ObjList, type(None)):\n",
    "            self.__next=obj \n",
    "                      \n",
    "\n",
    "class LinkedList:\n",
    "    def __init__(self):\n",
    "        self.head=None  # first object\n",
    "        self.tail=None  # last object\n",
    "        \n",
    "    def add_obj (self,obj):\n",
    "        obj.prev = self.tail\n",
    "        if self.tail:\n",
    "            self.tail.next=obj\n",
    "        self.tail=obj\n",
    "        \n",
    "        if not self.head:\n",
    "            self.head=obj\n",
    "    \n",
    "    def __get_obj_indx(self,indx):\n",
    "        obj= self.head\n",
    "        n=0\n",
    "        while obj and n<indx:\n",
    "            obj=obj.next\n",
    "            n+=1\n",
    "        return obj\n",
    "    \n",
    "    def remove_obj(self,indx):\n",
    "        obj = self.__get_obj_indx(indx)\n",
    "        if obj is None:\n",
    "            return\n",
    "        \n",
    "        p,n=obj.prev,obj.next\n",
    "        if p:\n",
    "            p.next=n\n",
    "        if n:\n",
    "            n.prev=p\n",
    "            \n",
    "        if self.head== obj:\n",
    "            self.head= n\n",
    "        if self.tail == obj:\n",
    "            self.tail =p\n",
    "        \n",
    "    def __len__ (self):\n",
    "        n=0\n",
    "        obj=self.head\n",
    "        while obj:\n",
    "            obj=obj.next\n",
    "            n+=1\n",
    "        return n\n",
    "    def __call__ (self,index):\n",
    "        obj = self.__get_obj_indx(index)\n",
    "        return obj.data if obj else None"
   ]
  },
  {
   "cell_type": "code",
   "execution_count": 7,
   "id": "1cc11a19-f313-4679-9046-ec111cf9827e",
   "metadata": {},
   "outputs": [
    {
     "data": {
      "text/plain": [
       "'Balakirev'"
      ]
     },
     "execution_count": 7,
     "metadata": {},
     "output_type": "execute_result"
    }
   ],
   "source": [
    "\n",
    "linked_lst = LinkedList()\n",
    "linked_lst.add_obj(ObjList(\"Sergey\"))\n",
    "linked_lst.add_obj(ObjList(\"Balakirev\"))\n",
    "linked_lst.add_obj(ObjList(\"Python\"))\n",
    "linked_lst.remove_obj(2)\n",
    "linked_lst.add_obj(ObjList(\"Python ООП\"))\n",
    "n = len(linked_lst)  # n = 3\n",
    "s = linked_lst(1) # s = Balakirev\n",
    "\n",
    "s"
   ]
  },
  {
   "cell_type": "code",
   "execution_count": null,
   "id": "ed5955ab-15ac-4944-9f74-d75c4b3e3e48",
   "metadata": {},
   "outputs": [],
   "source": [
    "\"ogon\" is \"ogon\""
   ]
  },
  {
   "cell_type": "code",
   "execution_count": null,
   "id": "95161cfb-1f72-426e-9fca-2e7153e6a005",
   "metadata": {},
   "outputs": [],
   "source": []
  }
 ],
 "metadata": {
  "kernelspec": {
   "display_name": "Python 3 (ipykernel)",
   "language": "python",
   "name": "python3"
  },
  "language_info": {
   "codemirror_mode": {
    "name": "ipython",
    "version": 3
   },
   "file_extension": ".py",
   "mimetype": "text/x-python",
   "name": "python",
   "nbconvert_exporter": "python",
   "pygments_lexer": "ipython3",
   "version": "3.9.10"
  }
 },
 "nbformat": 4,
 "nbformat_minor": 5
}
