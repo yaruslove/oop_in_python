{
 "cells": [
  {
   "cell_type": "code",
   "execution_count": null,
   "id": "06cef559-1910-4ec7-8e2a-d75c4d201b35",
   "metadata": {},
   "outputs": [],
   "source": [
    "class Car:\n",
    "    def __init__(self):\n",
    "        self.__model=\"\"\n",
    "        \n",
    "        \n",
    "    @property\n",
    "    def model(self):\n",
    "        return self.__model\n",
    "    \n",
    "    @model.setter\n",
    "    def model(self,value):\n",
    "        if isinstance(value,str) and 2<=len(value)<=100:\n",
    "            self.__model=value\n",
    "        "
   ]
  },
  {
   "cell_type": "code",
   "execution_count": null,
   "id": "e1f32818-a10b-41bc-abf6-dab7c919dfb0",
   "metadata": {},
   "outputs": [],
   "source": [
    "0<100<200"
   ]
  },
  {
   "cell_type": "code",
   "execution_count": null,
   "id": "8dc098db-2208-480a-9c28-aba11f2e8fc6",
   "metadata": {},
   "outputs": [],
   "source": [
    " in [1,4]"
   ]
  },
  {
   "cell_type": "code",
   "execution_count": null,
   "id": "90e015a6-f6dc-4816-9b02-d51d727b04c9",
   "metadata": {},
   "outputs": [],
   "source": []
  },
  {
   "cell_type": "code",
   "execution_count": null,
   "id": "9645caf3-de4d-4928-99f0-6c00dae9d932",
   "metadata": {},
   "outputs": [],
   "source": []
  },
  {
   "cell_type": "code",
   "execution_count": null,
   "id": "381b4b12-30d8-40e3-97b9-a9bc7b8b9425",
   "metadata": {},
   "outputs": [],
   "source": [
    "class WindowDlg:\n",
    "    def __init__ (self,title,width,height):\n",
    "        self.__title=title\n",
    "        self.__width,self.__height =None,None\n",
    "        self.width,self.height=width,height\n",
    "        \n",
    "    def show(self):\n",
    "        tmp=f\"{self.__title}: {self.__width}, {self. __height}\"\n",
    "        print(tmp)\n",
    "        del tmp\n",
    "        \n",
    "    def __check(self,value):\n",
    "        if 0<=value<=10000 and isinstance(value,int):\n",
    "            return True\n",
    "        else:\n",
    "            return False\n",
    "        \n",
    "    @property\n",
    "    def width(self):\n",
    "        return self.__width\n",
    "    @width.setter\n",
    "    def width(self, value):\n",
    "        if self.__check(value):\n",
    "            if self.__width:\n",
    "                self.show()\n",
    "            self.__width = value\n",
    "\n",
    "    @property\n",
    "    def height(self):\n",
    "        return self.__height\n",
    "    @height.setter\n",
    "    def height(self, value):\n",
    "        if self.__check(value):\n",
    "            if self.__height:\n",
    "                self.show()\n",
    "            self.__height = value\n",
    "\n",
    "wnd = WindowDlg(\"veka\", 10, 20)"
   ]
  },
  {
   "cell_type": "code",
   "execution_count": null,
   "id": "da4f325c-0981-4323-9bd8-e5115668c773",
   "metadata": {},
   "outputs": [],
   "source": [
    "a=int()"
   ]
  },
  {
   "cell_type": "code",
   "execution_count": null,
   "id": "87333c22-afab-402c-bdb8-332b1bb678b0",
   "metadata": {},
   "outputs": [],
   "source": [
    "a"
   ]
  },
  {
   "cell_type": "code",
   "execution_count": null,
   "id": "736f4a52-74aa-4f28-adc7-a6a598870a1a",
   "metadata": {},
   "outputs": [],
   "source": []
  },
  {
   "cell_type": "code",
   "execution_count": null,
   "id": "210079bc-93fe-474e-b892-de630a4c6317",
   "metadata": {},
   "outputs": [],
   "source": [
    "class StackObj:\n",
    "    def __init__ (self,data):\n",
    "        self.__data=data\n",
    "        self.__next=None\n",
    "    \n",
    "    \n",
    "    def set_next(self,next):\n",
    "        if isinstance(next,StackObj) or next==None:\n",
    "            self.__next=next\n",
    "    def get_next(self):\n",
    "        return self.__next\n",
    "    next=property(get_next,set_next)\n",
    "    \n",
    "\n",
    "    def set_data(self,data):\n",
    "        self.__data=data\n",
    "    def get_data(self):\n",
    "        return self.__data\n",
    "    data=property(get_data,set_data)"
   ]
  },
  {
   "cell_type": "code",
   "execution_count": null,
   "id": "d27dfbab-a13b-46bd-806d-2bd43401d3e6",
   "metadata": {},
   "outputs": [],
   "source": [
    "\n",
    "\n",
    "class Stack:\n",
    "    def __init__(self):\n",
    "        self.spis=list()\n",
    "        \n",
    "    @property\n",
    "    def top(self):\n",
    "        if self.spis!=list():\n",
    "            return self.spis[0]\n",
    "        else:\n",
    "            return 0\n",
    "    \n",
    "    def push(self, obj):\n",
    "        if self.spis!=list():\n",
    "            self.spis[-1].next=obj\n",
    "            self.spis.append(obj)\n",
    "        else:\n",
    "            self.spis.append(obj)\n",
    "            \n",
    "    def pop(self):\n",
    "        if self.spis!=list():\n",
    "            del self.spis[-1]\n",
    "            \n",
    "    def get_data(self):\n",
    "        return [i.data for i in self.spis]"
   ]
  },
  {
   "cell_type": "code",
   "execution_count": null,
   "id": "0d3453e7-6225-48d9-a3f5-8e1d07d1f328",
   "metadata": {},
   "outputs": [],
   "source": [
    "st = Stack()\n",
    "st.push(StackObj(\"obj1\"))\n",
    "st.push(StackObj(\"obj2\"))\n",
    "st.push(StackObj(\"obj3\"))\n",
    "st.pop()\n",
    "res = st.get_data()\n",
    "st.top.data"
   ]
  },
  {
   "cell_type": "code",
   "execution_count": null,
   "id": "4281e472-ee37-4f4d-95ca-25105126ecbf",
   "metadata": {},
   "outputs": [],
   "source": [
    "st.spis"
   ]
  },
  {
   "cell_type": "code",
   "execution_count": null,
   "id": "c3f531d8-61a0-4a9a-95e1-b438d1cfa38a",
   "metadata": {},
   "outputs": [],
   "source": []
  },
  {
   "cell_type": "code",
   "execution_count": null,
   "id": "4156f640-b3fa-44e5-98c1-d2a2de0194c0",
   "metadata": {},
   "outputs": [],
   "source": []
  },
  {
   "cell_type": "code",
   "execution_count": null,
   "id": "b18d60c7-3ae9-4ceb-8164-b2023b8198d5",
   "metadata": {},
   "outputs": [],
   "source": []
  },
  {
   "cell_type": "code",
   "execution_count": null,
   "id": "8a837071-a2a2-4581-a3f2-f9a6de40a9cd",
   "metadata": {},
   "outputs": [],
   "source": [
    "class Meta(type):\n",
    "    def __new__(mcls, name, bases, namespace, **kw):\n",
    "        name = modified(name)\n",
    "        return super().__new__(mcls, name, bases, namespace, **kw)\n",
    "\n",
    "    def __init__(cls, name, bases, namespace, **kw):\n",
    "        name = cls.__name__  # noQA  (otherwise linting tools would warn on the overriden parameter name)\n",
    "        ..."
   ]
  },
  {
   "cell_type": "code",
   "execution_count": null,
   "id": "8eca4895-b315-4b73-85b1-4f50548db77a",
   "metadata": {},
   "outputs": [],
   "source": [
    "class RadiusVector2D:\n",
    "    MIN_COORD = -100\n",
    "    MAX_COORD = 1024\n",
    "    def __init__ (self,x=0,y=0):\n",
    "        self.__x=self.__y=0\n",
    "        self.x=x\n",
    "        self.y=y\n",
    "\n",
    "    @classmethod\n",
    "    def check(cls,cord):\n",
    "        return  type(cord) in [int,float] and cls.MIN_COORD<=cord<=cls.MAX_COORD\n",
    "    \n",
    "    @property    \n",
    "    def x(self):\n",
    "        return self.__x\n",
    "        \n",
    "    @x.setter    \n",
    "    def x(self,x):\n",
    "        if self.check(x):\n",
    "            self.__x=x\n",
    "            \n",
    "            \n",
    "       \n",
    "    @property    \n",
    "    def y(self):\n",
    "        return self.__y\n",
    "        \n",
    "    @y.setter    \n",
    "    def y(self,y):\n",
    "        if self.check(y):\n",
    "            self.__y=y\n",
    "            \n",
    "    @staticmethod\n",
    "    def norm2(vector):\n",
    "        return vector.x*vector.x+vector.y*vector.y\n",
    "    \n",
    "v1 = RadiusVector2D()"
   ]
  },
  {
   "cell_type": "code",
   "execution_count": null,
   "id": "1514cfa9-4c3e-450b-8365-02ad874d2fb3",
   "metadata": {},
   "outputs": [],
   "source": [
    "v1 = RadiusVector2D()        # радиус-вектор с координатами (0; 0)\n",
    "v2 = RadiusVector2D(1)       # радиус-вектор с координатами (1; 0)\n",
    "v3 = RadiusVector2D(1, 2)  \n",
    "\n",
    "v2.y"
   ]
  },
  {
   "cell_type": "code",
   "execution_count": null,
   "id": "7c5378c8-54ff-49a0-ba9d-527a53df39f2",
   "metadata": {},
   "outputs": [],
   "source": [
    "if None:\n",
    "    print(1)"
   ]
  },
  {
   "cell_type": "code",
   "execution_count": null,
   "id": "ff30d90c-d925-48ac-9a16-0541d68e12f3",
   "metadata": {},
   "outputs": [],
   "source": []
  },
  {
   "cell_type": "code",
   "execution_count": null,
   "id": "cef624a6-8f29-4df6-a321-781c171732e4",
   "metadata": {},
   "outputs": [],
   "source": []
  },
  {
   "cell_type": "code",
   "execution_count": null,
   "id": "997a344f-1d7a-44be-b72d-a0cda7727c5a",
   "metadata": {},
   "outputs": [],
   "source": []
  },
  {
   "cell_type": "code",
   "execution_count": 1,
   "id": "caa618ba-9dcb-47cb-9cdb-a912f3d59b6b",
   "metadata": {},
   "outputs": [],
   "source": [
    "class TreeObj:\n",
    "    def __init__(self, indx, value=None):\n",
    "        self.indx=indx\n",
    "        self.value=value\n",
    "        self.__left=None\n",
    "        self.__right=None\n",
    "        \n",
    "    @property\n",
    "    def left(self):\n",
    "        return self.__left\n",
    "    \n",
    "    @left.setter\n",
    "    def left(self,branch):\n",
    "        self.__left=branch\n",
    "        \n",
    "    @property\n",
    "    def right(self):\n",
    "        return self.__right\n",
    "    \n",
    "    @right.setter\n",
    "    def right(self,branch):\n",
    "        self.__right=branch"
   ]
  },
  {
   "cell_type": "code",
   "execution_count": 2,
   "id": "f593604b-2fcc-4184-985a-482f1e6204a4",
   "metadata": {},
   "outputs": [],
   "source": [
    "class DecisionTree:\n",
    "    dict_indx=dict()\n",
    "    \n",
    "    @classmethod\n",
    "    def predict(cls, root, x):\n",
    "        \n",
    "        if x[root.indx]==1: # left\n",
    "            next_node=DecisionTree.dict_indx[root.indx].left ## 0==root-node\n",
    "        else:\n",
    "            next_node=DecisionTree.dict_indx[root.indx].right ## 0==root-node, next-node - point to next TreeObj\n",
    "        \n",
    "        while True:\n",
    "            if x[next_node.indx]==1: ## answer True/False or same Right/Left\n",
    "                next_node=DecisionTree.dict_indx[next_node.indx].left\n",
    "            else:\n",
    "                next_node=DecisionTree.dict_indx[next_node.indx].right\n",
    "            if next_node.indx==-1:\n",
    "                return next_node.value\n",
    "        \n",
    "        \n",
    "    @classmethod    \n",
    "    def add_obj(cls, obj, node=None, left=True):\n",
    "        print(\"1 obj\")\n",
    "        print(obj)\n",
    "        DecisionTree.dict_indx[obj.indx]=obj\n",
    "        if node!=None:\n",
    "            if left==True:\n",
    "                node.left=obj\n",
    "            else:\n",
    "                node.right=obj\n",
    "        print(\"2 obj\")\n",
    "        print(obj)\n",
    "        return obj"
   ]
  },
  {
   "cell_type": "code",
   "execution_count": 3,
   "id": "ffc6138c-1a35-47a0-adeb-19c648805a11",
   "metadata": {},
   "outputs": [
    {
     "name": "stdout",
     "output_type": "stream",
     "text": [
      "1 obj\n",
      "<__main__.TreeObj object at 0x10493b850>\n",
      "2 obj\n",
      "<__main__.TreeObj object at 0x10493b850>\n"
     ]
    }
   ],
   "source": [
    "root = DecisionTree.add_obj(TreeObj(0))\n"
   ]
  },
  {
   "cell_type": "code",
   "execution_count": 6,
   "id": "1e86143f-d1e5-4ab6-a4da-40e494331672",
   "metadata": {},
   "outputs": [
    {
     "ename": "AttributeError",
     "evalue": "'TreeObj' object has no attribute 'index'",
     "output_type": "error",
     "traceback": [
      "\u001b[0;31m---------------------------------------------------------------------------\u001b[0m",
      "\u001b[0;31mAttributeError\u001b[0m                            Traceback (most recent call last)",
      "Input \u001b[0;32mIn [6]\u001b[0m, in \u001b[0;36m<module>\u001b[0;34m\u001b[0m\n\u001b[1;32m      1\u001b[0m obj\u001b[38;5;241m=\u001b[39mTreeObj(\u001b[38;5;241m0\u001b[39m)\n\u001b[0;32m----> 2\u001b[0m \u001b[43mobj\u001b[49m\u001b[38;5;241;43m.\u001b[39;49m\u001b[43mindex\u001b[49m\n",
      "\u001b[0;31mAttributeError\u001b[0m: 'TreeObj' object has no attribute 'index'"
     ]
    }
   ],
   "source": [
    "obj=TreeObj(0)\n",
    "obj.index"
   ]
  },
  {
   "cell_type": "code",
   "execution_count": 4,
   "id": "ab8dca9e-ad41-4214-a1dd-602bb12718f5",
   "metadata": {},
   "outputs": [
    {
     "ename": "AttributeError",
     "evalue": "'TreeObj' object has no attribute 'index'",
     "output_type": "error",
     "traceback": [
      "\u001b[0;31m---------------------------------------------------------------------------\u001b[0m",
      "\u001b[0;31mAttributeError\u001b[0m                            Traceback (most recent call last)",
      "Input \u001b[0;32mIn [4]\u001b[0m, in \u001b[0;36m<module>\u001b[0;34m\u001b[0m\n\u001b[0;32m----> 1\u001b[0m \u001b[43mroot\u001b[49m\u001b[38;5;241;43m.\u001b[39;49m\u001b[43mindex\u001b[49m\n",
      "\u001b[0;31mAttributeError\u001b[0m: 'TreeObj' object has no attribute 'index'"
     ]
    }
   ],
   "source": [
    "root.index"
   ]
  },
  {
   "cell_type": "code",
   "execution_count": null,
   "id": "309bfae5-549f-4eee-9928-044c77894f07",
   "metadata": {},
   "outputs": [],
   "source": []
  },
  {
   "cell_type": "code",
   "execution_count": null,
   "id": "0a8cc683-650c-48a1-9b55-42711c6b5749",
   "metadata": {},
   "outputs": [],
   "source": [
    "obj=TreeObj(0)\n",
    "obj.indx"
   ]
  },
  {
   "cell_type": "code",
   "execution_count": null,
   "id": "56e49bc9-3600-4c27-8d58-348bd78544f6",
   "metadata": {},
   "outputs": [],
   "source": [
    "v_11 = DecisionTree.add_obj(TreeObj(1), root)"
   ]
  },
  {
   "cell_type": "code",
   "execution_count": null,
   "id": "4e2fb605-9bda-4e73-9459-e1c70f1f2bea",
   "metadata": {},
   "outputs": [],
   "source": [
    "v_11"
   ]
  },
  {
   "cell_type": "code",
   "execution_count": null,
   "id": "3da12f34-de82-4ea4-b5a0-db8bc1f7ce13",
   "metadata": {},
   "outputs": [],
   "source": [
    "root.left"
   ]
  },
  {
   "cell_type": "code",
   "execution_count": null,
   "id": "62d632c9-b03d-4187-89d1-c28f07b5b535",
   "metadata": {},
   "outputs": [],
   "source": []
  },
  {
   "cell_type": "code",
   "execution_count": null,
   "id": "1d4d23a3-dca1-48a6-b019-b4c8e0182fe6",
   "metadata": {},
   "outputs": [],
   "source": [
    "root = DecisionTree.add_obj(TreeObj(0))\n",
    "v_11 = DecisionTree.add_obj(TreeObj(1), root)\n",
    "v_12 = DecisionTree.add_obj(TreeObj(2), root, False)\n",
    "DecisionTree.add_obj(TreeObj(-1, \"будет программистом\"), v_11)\n",
    "DecisionTree.add_obj(TreeObj(-1, \"будет кодером\"), v_11, False)\n",
    "DecisionTree.add_obj(TreeObj(-1, \"не все потеряно\"), v_12)\n",
    "DecisionTree.add_obj(TreeObj(-1, \"безнадежен\"), v_12, False)"
   ]
  },
  {
   "cell_type": "code",
   "execution_count": null,
   "id": "7d5906a3-f6b9-46bf-8d84-1aade137436c",
   "metadata": {},
   "outputs": [],
   "source": [
    "root.index"
   ]
  },
  {
   "cell_type": "code",
   "execution_count": null,
   "id": "37cc9381-1093-4751-a65a-a3159d8711ae",
   "metadata": {},
   "outputs": [],
   "source": [
    "res=DecisionTree.predict(root,[1,0,1])\n",
    "print(res)"
   ]
  },
  {
   "cell_type": "code",
   "execution_count": null,
   "id": "40479321-65bc-4fe4-9c5d-8c2e7d062000",
   "metadata": {},
   "outputs": [],
   "source": []
  },
  {
   "cell_type": "code",
   "execution_count": null,
   "id": "b1290ecf-4c34-4143-8d9b-175209072415",
   "metadata": {},
   "outputs": [],
   "source": []
  }
 ],
 "metadata": {
  "kernelspec": {
   "display_name": "Python 3 (ipykernel)",
   "language": "python",
   "name": "python3"
  },
  "language_info": {
   "codemirror_mode": {
    "name": "ipython",
    "version": 3
   },
   "file_extension": ".py",
   "mimetype": "text/x-python",
   "name": "python",
   "nbconvert_exporter": "python",
   "pygments_lexer": "ipython3",
   "version": "3.9.10"
  }
 },
 "nbformat": 4,
 "nbformat_minor": 5
}
