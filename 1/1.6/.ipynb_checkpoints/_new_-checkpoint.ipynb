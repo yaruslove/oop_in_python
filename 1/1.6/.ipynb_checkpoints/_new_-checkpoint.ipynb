{
 "cells": [
  {
   "cell_type": "code",
   "execution_count": null,
   "id": "a55a56a7-7b3f-4977-885a-e5c6e12114ff",
   "metadata": {
    "tags": []
   },
   "outputs": [],
   "source": [
    "class Point:\n",
    "    def __new__(cls, *args, **kwargs):\n",
    "        print(\"вызов __new__ для \" + str(cls))\n",
    " \n",
    "    def __init__(self, x=0, y=0):\n",
    "        print(\"вызов __init__ для \" + str(self))\n",
    "        self.x = x\n",
    "        self.y = y"
   ]
  },
  {
   "cell_type": "code",
   "execution_count": null,
   "id": "5d4e80a8-8673-45a0-86ef-bfba0141a004",
   "metadata": {},
   "outputs": [],
   "source": [
    "pt = Point(1, 2)\n",
    "\n",
    "print(pt)"
   ]
  },
  {
   "cell_type": "code",
   "execution_count": null,
   "id": "3709274d-ada6-4d09-814b-da008227b2ac",
   "metadata": {
    "tags": []
   },
   "outputs": [],
   "source": [
    "class Point:\n",
    "    def __new__(cls, *args, **kwargs):\n",
    "        print(\"вызов __new__ для \" + str(cls))\n",
    "        return super().__new__(cls)\n",
    " \n",
    "    def __init__(self, x=0, y=0):\n",
    "        print(\"вызов __init__ для \" + str(self))\n",
    "        self.x = x\n",
    "        self.y = y"
   ]
  },
  {
   "cell_type": "code",
   "execution_count": null,
   "id": "23d18ac8-6d5c-4059-8f96-25bdecd900ac",
   "metadata": {},
   "outputs": [],
   "source": [
    "pt = Point(1, 2)\n",
    "\n",
    "print(pt)"
   ]
  },
  {
   "cell_type": "code",
   "execution_count": null,
   "id": "2b886435-6041-45ac-bff7-4b25fdee2227",
   "metadata": {
    "tags": []
   },
   "outputs": [],
   "source": [
    "class Rectangle:\n",
    "     def __init__(self, width, height):\n",
    "         self.width = width\n",
    "         self.height = height\n",
    "         return None\n",
    "\n",
    "\n",
    "rectangle = Rectangle(21, 42)"
   ]
  },
  {
   "cell_type": "code",
   "execution_count": null,
   "id": "89a6374a-6ae6-4e12-8b0c-c8f230e105ce",
   "metadata": {},
   "outputs": [],
   "source": []
  },
  {
   "cell_type": "code",
   "execution_count": null,
   "id": "0a66ef40-a38e-4851-b9aa-207e92070b25",
   "metadata": {},
   "outputs": [],
   "source": []
  },
  {
   "cell_type": "code",
   "execution_count": null,
   "id": "7403b097-0a34-4018-ab1f-7a83d46e0872",
   "metadata": {
    "tags": []
   },
   "outputs": [],
   "source": [
    "class SingletonFive:\n",
    "    instance=5\n",
    "    def __new__(cls, *args, **kwargs):\n",
    "        return super().__new__(cls)\n",
    "    def __init__(self,a):\n",
    "        self.a=a\n",
    "    def check(self):\n",
    "        return f\"instance {SingletonFive.instance}\"\n",
    "        \n",
    "    def change_plus(self,uvel):\n",
    "        SingletonFive.instance+=uvel\n",
    "        "
   ]
  },
  {
   "cell_type": "code",
   "execution_count": null,
   "id": "a8a5c21f-b2e0-4cc4-93bc-12e178433bbb",
   "metadata": {},
   "outputs": [],
   "source": [
    "a=SingletonFive(40)\n",
    "print(\"before\",a.check())\n",
    "a.change_plus(40)\n",
    "print(\"after\",a.check())"
   ]
  },
  {
   "cell_type": "code",
   "execution_count": null,
   "id": "e8ba354c-f482-42c0-b721-69d5cec583b5",
   "metadata": {
    "tags": []
   },
   "outputs": [],
   "source": [
    "b=SingletonFive(90)\n",
    "print(\"before\",a.check())\n",
    "b.change_plus(60)\n",
    "print(\"after a\",a.check())\n",
    "print(\"after b\",b.check())"
   ]
  },
  {
   "cell_type": "code",
   "execution_count": null,
   "id": "54b73880-a62d-4100-928e-1ec1d4c0b4cb",
   "metadata": {},
   "outputs": [],
   "source": [
    "SingletonFive.instance"
   ]
  },
  {
   "cell_type": "code",
   "execution_count": null,
   "id": "614c3ec2-6abf-4399-b111-af4f43343e80",
   "metadata": {},
   "outputs": [],
   "source": []
  },
  {
   "cell_type": "code",
   "execution_count": null,
   "id": "c3213908-5f12-4bfb-bcee-78c2401ba63b",
   "metadata": {},
   "outputs": [],
   "source": []
  },
  {
   "cell_type": "code",
   "execution_count": null,
   "id": "08a444e7-397a-43ee-b018-56d2e710c9fe",
   "metadata": {},
   "outputs": [],
   "source": []
  },
  {
   "cell_type": "code",
   "execution_count": null,
   "id": "d3a25f01-4c62-4ef1-8fcb-0f7367e5f556",
   "metadata": {},
   "outputs": [],
   "source": [
    "TYPE_OS=1\n",
    "type_os=1\n",
    "\n",
    "class Test:\n",
    "    def __init__(self,name):\n",
    "        self.name=name\n",
    "        self.surename=type_os\n",
    "\n",
    "a=Test(\"ogon\")\n",
    "a.surename"
   ]
  },
  {
   "cell_type": "code",
   "execution_count": 3,
   "id": "7ded1822-004a-40c7-bead-186881bb1435",
   "metadata": {},
   "outputs": [],
   "source": [
    "class DialogWindows:\n",
    "    name_class = \"DialogWindows\"\n",
    "    def __init__(self,name):\n",
    "        self.name=str(name)\n",
    "        \n",
    "\n",
    "\n",
    "class DialogLinux:\n",
    "    name_class = \"DialogLinux\"    \n",
    "    def __init__(self,name):\n",
    "        self.name=str(name)\n",
    "\n",
    "TYPE_OS=1\n",
    "\n",
    "# здесь объявляйте класс Dialog\n",
    "class Dialog:\n",
    "    def __new__(cls, *args, **kwargs):\n",
    "        if TYPE_OS==1:\n",
    "            return super().__new__(DialogWindows)\n",
    "        else:\n",
    "            return super().__new__(DialogLinux)\n",
    "    def __init__(self,name):\n",
    "        self.name=str(name)"
   ]
  },
  {
   "cell_type": "code",
   "execution_count": 4,
   "id": "c02dca21-f6a6-40d0-a00e-426bb31f3e5e",
   "metadata": {},
   "outputs": [],
   "source": [
    "TYPE_OS=1\n",
    "\n"
   ]
  },
  {
   "cell_type": "code",
   "execution_count": 5,
   "id": "caf13242-b057-48ea-8283-ce5f46ca3743",
   "metadata": {},
   "outputs": [],
   "source": [
    "a=Dialog(\"text\")"
   ]
  },
  {
   "cell_type": "code",
   "execution_count": 6,
   "id": "d9f9d432-7ffe-4981-817e-a07ec0bb8d4c",
   "metadata": {},
   "outputs": [
    {
     "ename": "AttributeError",
     "evalue": "'DialogWindows' object has no attribute 'name'",
     "output_type": "error",
     "traceback": [
      "\u001b[0;31m---------------------------------------------------------------------------\u001b[0m",
      "\u001b[0;31mAttributeError\u001b[0m                            Traceback (most recent call last)",
      "Input \u001b[0;32mIn [6]\u001b[0m, in \u001b[0;36m<module>\u001b[0;34m\u001b[0m\n\u001b[1;32m      1\u001b[0m \u001b[38;5;28mtype\u001b[39m(a)\n\u001b[0;32m----> 2\u001b[0m \u001b[43ma\u001b[49m\u001b[38;5;241;43m.\u001b[39;49m\u001b[43mname\u001b[49m\n",
      "\u001b[0;31mAttributeError\u001b[0m: 'DialogWindows' object has no attribute 'name'"
     ]
    }
   ],
   "source": [
    "type(a)\n",
    "a.name"
   ]
  },
  {
   "cell_type": "code",
   "execution_count": null,
   "id": "d127b463-5c12-4508-9bae-4faf68af4e6a",
   "metadata": {},
   "outputs": [],
   "source": []
  }
 ],
 "metadata": {
  "kernelspec": {
   "display_name": "Python 3 (ipykernel)",
   "language": "python",
   "name": "python3"
  },
  "language_info": {
   "codemirror_mode": {
    "name": "ipython",
    "version": 3
   },
   "file_extension": ".py",
   "mimetype": "text/x-python",
   "name": "python",
   "nbconvert_exporter": "python",
   "pygments_lexer": "ipython3",
   "version": "3.9.10"
  }
 },
 "nbformat": 4,
 "nbformat_minor": 5
}
