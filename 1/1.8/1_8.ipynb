{
 "cells": [
  {
   "cell_type": "code",
   "execution_count": 1,
   "id": "39d546b1-1ac2-4d60-8b34-82a3346f0523",
   "metadata": {
    "tags": []
   },
   "outputs": [],
   "source": [
    "class Server:\n",
    "    prevn=0\n",
    "    def __new__(cls, *args, **kwargs):\n",
    "        cls.prevn+=1\n",
    "        return super().__new__(cls)\n",
    "        \n",
    "    def __init__(self):\n",
    "        self.ip=int(Server.prevn)\n",
    "        self.buffer=list()\n",
    "        \n",
    "    def send_data(self,data):\n",
    "        Router.buffer.append(data)\n",
    "    def get_data(self):\n",
    "        tmp=self.buffer\n",
    "        self.buffer=list()\n",
    "        return tmp\n",
    "        \n",
    "    def get_ip(self):\n",
    "        return int(self.ip)\n",
    "\n",
    "    \n",
    "    \n",
    "class Router:\n",
    "    buffer=list()\n",
    "    serv_dict=dict()\n",
    "\n",
    "    @classmethod\n",
    "    def link(cls,server):\n",
    "        Router.serv_dict[int(server.get_ip())]=server\n",
    "    @classmethod\n",
    "    def unlink(cls,server):\n",
    "        \n",
    "        del Router.serv_dict[int(server.get_ip())]\n",
    "    @classmethod\n",
    "    def send_data(cls):\n",
    "        tmp=Router.buffer\n",
    "        Router.buffer=list()\n",
    "        for i in tmp:\n",
    "            Router.serv_dict[i.ip].buffer.append(i)\n",
    "        \n",
    "        \n",
    "    \n",
    "    \n",
    "    \n",
    "class Data:\n",
    "    def __init__(self,data,ip):\n",
    "        self.data=data\n",
    "        self.ip=ip"
   ]
  },
  {
   "cell_type": "code",
   "execution_count": 2,
   "id": "05bb6c09-4434-4dd0-adc5-e420d23b3f7a",
   "metadata": {},
   "outputs": [],
   "source": [
    "router = Router()\n",
    "sv_from = Server()\n",
    "router.link(sv_from)\n",
    "router.link(Server())\n",
    "router.link(Server())\n",
    "sv_to = Server()\n",
    "router.link(sv_to)\n",
    "sv_from.send_data(Data(\"Hello\", sv_to.get_ip()))\n",
    "router.send_data()\n",
    "sv_to.send_data(Data(\"Hi\", sv_from.get_ip()))\n",
    "router.send_data()\n",
    "msg_lst_from = sv_from.get_data()\n",
    "msg_lst_to = sv_to.get_data()"
   ]
  },
  {
   "cell_type": "code",
   "execution_count": 3,
   "id": "73d8abff-6b38-4bed-8b3d-595214e1ac84",
   "metadata": {
    "tags": []
   },
   "outputs": [
    {
     "data": {
      "text/plain": [
       "'Hi'"
      ]
     },
     "execution_count": 3,
     "metadata": {},
     "output_type": "execute_result"
    }
   ],
   "source": [
    "msg_lst_from[0].data"
   ]
  },
  {
   "cell_type": "code",
   "execution_count": null,
   "id": "79eb8a25-7ae4-421e-aba7-29c50fa672b5",
   "metadata": {},
   "outputs": [],
   "source": [
    "msg_lst_to[0].data"
   ]
  },
  {
   "cell_type": "code",
   "execution_count": null,
   "id": "b36c7c4a-a27c-45da-8b19-85ca3bad4868",
   "metadata": {},
   "outputs": [],
   "source": [
    "a=Server()\n",
    "print(\"a ip\",a.ip)\n",
    "print(a.get_ip(),\"\\n\")\n",
    "\n",
    "\n",
    "b=Server()\n",
    "print(\"b ip\",b.ip)\n",
    "print(b.get_ip())"
   ]
  },
  {
   "cell_type": "code",
   "execution_count": null,
   "id": "ffb96759-e4b3-45f8-bad9-ac6168655f91",
   "metadata": {},
   "outputs": [],
   "source": [
    "router = Router()\n",
    "\n",
    "router.link(a)\n",
    "router.link(b)\n",
    "\n",
    "router.serv_dict"
   ]
  },
  {
   "cell_type": "code",
   "execution_count": null,
   "id": "260ff808-4534-46a8-af26-594939b36808",
   "metadata": {},
   "outputs": [],
   "source": [
    "data1=Data(\"from 1 to 2\",2)\n",
    "a.send_data(data1)\n",
    "\n",
    "data2=Data(\"from 2 to 1\",1)\n",
    "b.send_data(data2)"
   ]
  },
  {
   "cell_type": "code",
   "execution_count": null,
   "id": "d499ef61-1292-46cf-9bcd-881198cd149b",
   "metadata": {},
   "outputs": [],
   "source": [
    "print(router.serv_dict)\n",
    "print(router.buffer)"
   ]
  },
  {
   "cell_type": "code",
   "execution_count": null,
   "id": "e09cf058-e338-478e-a2b8-816e07ea77bb",
   "metadata": {},
   "outputs": [],
   "source": [
    "print(a.buffer)\n",
    "\n",
    "print(b.buffer)"
   ]
  },
  {
   "cell_type": "code",
   "execution_count": null,
   "id": "af001c18-45ef-43f9-8ee6-763434d36fed",
   "metadata": {},
   "outputs": [],
   "source": [
    "Router.send_data()"
   ]
  },
  {
   "cell_type": "code",
   "execution_count": null,
   "id": "edc4b2d5-92f5-4b38-97e0-81b377ba5750",
   "metadata": {
    "tags": []
   },
   "outputs": [],
   "source": [
    "print(a.buffer)\n",
    "\n",
    "print(b.buffer)"
   ]
  },
  {
   "cell_type": "code",
   "execution_count": null,
   "id": "9f25ed30-a67d-404a-a1b6-04598b4e8554",
   "metadata": {},
   "outputs": [],
   "source": [
    "router.serv_dict"
   ]
  },
  {
   "cell_type": "code",
   "execution_count": null,
   "id": "aecff433-ff59-4e5b-b4f2-de6ef82dc5a5",
   "metadata": {},
   "outputs": [],
   "source": []
  },
  {
   "cell_type": "code",
   "execution_count": null,
   "id": "3ec97017-8a53-415f-861d-cca80496f2d0",
   "metadata": {},
   "outputs": [],
   "source": [
    "router.unlink(b)\n",
    "print(router.serv_dict)"
   ]
  },
  {
   "cell_type": "code",
   "execution_count": null,
   "id": "7d95c484-3da8-4870-8461-0724942695bc",
   "metadata": {},
   "outputs": [],
   "source": [
    "router.serv_dict"
   ]
  },
  {
   "cell_type": "code",
   "execution_count": null,
   "id": "3f0ce2b5-0a0d-48f3-9cba-9ab915fdd232",
   "metadata": {},
   "outputs": [],
   "source": [
    "tmp=[\"slovo\",\"ogogn\"]\n",
    "\n",
    "a=tmp\n",
    "\n",
    "a"
   ]
  },
  {
   "cell_type": "code",
   "execution_count": null,
   "id": "45d0f6ef-b359-4e02-adfe-926d2b7bad86",
   "metadata": {},
   "outputs": [],
   "source": [
    "tmp=2\n",
    "a.remove(\"slovo\")\n",
    "a"
   ]
  },
  {
   "cell_type": "code",
   "execution_count": null,
   "id": "314eadfa-50c6-4fcb-8092-7a7181871220",
   "metadata": {},
   "outputs": [],
   "source": [
    "tmp"
   ]
  },
  {
   "cell_type": "code",
   "execution_count": null,
   "id": "a5dea32b-d5ab-42ff-aa53-e3304cbea08f",
   "metadata": {},
   "outputs": [],
   "source": [
    "a"
   ]
  },
  {
   "cell_type": "code",
   "execution_count": null,
   "id": "8d430c68-7111-4c07-9881-c54a5cf714c1",
   "metadata": {},
   "outputs": [],
   "source": []
  }
 ],
 "metadata": {
  "kernelspec": {
   "display_name": "Python 3 (ipykernel)",
   "language": "python",
   "name": "python3"
  },
  "language_info": {
   "codemirror_mode": {
    "name": "ipython",
    "version": 3
   },
   "file_extension": ".py",
   "mimetype": "text/x-python",
   "name": "python",
   "nbconvert_exporter": "python",
   "pygments_lexer": "ipython3",
   "version": "3.9.10"
  }
 },
 "nbformat": 4,
 "nbformat_minor": 5
}
