{
 "cells": [
  {
   "cell_type": "code",
   "execution_count": null,
   "id": "3fd16859-9d58-4140-b776-a272b546e95c",
   "metadata": {},
   "outputs": [],
   "source": [
    "class Clock:\n",
    "    def __init__ (self):\n",
    "        self.__time=0\n",
    "    def set_time(self,tm):\n",
    "        if self.__check_time(tm):\n",
    "            self.__time=tm\n",
    "    def get_time(self):\n",
    "        return self.__time\n",
    "    def __check_time(self,tm):\n",
    "        return isinstance(tm,int) and tm>=0 and tm<100000\n",
    "clock=Clock()\n",
    "clock.set_time(4530)"
   ]
  },
  {
   "cell_type": "code",
   "execution_count": null,
   "id": "993db314-e9f6-47f4-91ee-48a76cf1aa6d",
   "metadata": {},
   "outputs": [],
   "source": [
    "isinstance(100,int) and -1>=0 and 100<100000"
   ]
  },
  {
   "cell_type": "code",
   "execution_count": 1,
   "id": "0a8c3592-8bb1-4b71-9206-977a6310add9",
   "metadata": {},
   "outputs": [],
   "source": [
    "class Money:\n",
    "    def __init__ (self,money):\n",
    "        self.__money=money\n",
    "    def set_money(self,money):\n",
    "        if self.__check_money(money):\n",
    "            self.__money=money\n",
    "    def get_money(self):\n",
    "        return self.__money\n",
    "    def add_money(self,mn):\n",
    "        self.__money+=mn.get_money()\n",
    "        \n",
    "    @classmethod    \n",
    "    def __check_money(cls,money):\n",
    "        return isinstance(money,int) and money>=0"
   ]
  },
  {
   "cell_type": "code",
   "execution_count": 2,
   "id": "7aa0c066-0fdd-45e9-b44d-6796d6a099f1",
   "metadata": {},
   "outputs": [
    {
     "ename": "AttributeError",
     "evalue": "'Money' object has no attribute 'money'",
     "output_type": "error",
     "traceback": [
      "\u001b[0;31m---------------------------------------------------------------------------\u001b[0m",
      "\u001b[0;31mAttributeError\u001b[0m                            Traceback (most recent call last)",
      "Input \u001b[0;32mIn [2]\u001b[0m, in \u001b[0;36m<module>\u001b[0;34m\u001b[0m\n\u001b[1;32m      2\u001b[0m mn_2 \u001b[38;5;241m=\u001b[39m Money(\u001b[38;5;241m20\u001b[39m)\n\u001b[1;32m      3\u001b[0m mn_1\u001b[38;5;241m.\u001b[39mset_money(\u001b[38;5;241m100\u001b[39m)\n\u001b[0;32m----> 4\u001b[0m \u001b[43mmn_2\u001b[49m\u001b[38;5;241;43m.\u001b[39;49m\u001b[43madd_money\u001b[49m\u001b[43m(\u001b[49m\u001b[43mmn_1\u001b[49m\u001b[43m)\u001b[49m\n\u001b[1;32m      5\u001b[0m m1 \u001b[38;5;241m=\u001b[39m mn_1\u001b[38;5;241m.\u001b[39mget_money()    \u001b[38;5;66;03m# 100\u001b[39;00m\n\u001b[1;32m      6\u001b[0m m2 \u001b[38;5;241m=\u001b[39m mn_2\u001b[38;5;241m.\u001b[39mget_money()\n",
      "Input \u001b[0;32mIn [1]\u001b[0m, in \u001b[0;36mMoney.add_money\u001b[0;34m(self, mn)\u001b[0m\n\u001b[1;32m      9\u001b[0m \u001b[38;5;28;01mdef\u001b[39;00m \u001b[38;5;21madd_money\u001b[39m(\u001b[38;5;28mself\u001b[39m,mn):\n\u001b[0;32m---> 10\u001b[0m     \u001b[38;5;28mself\u001b[39m\u001b[38;5;241m.\u001b[39m__money\u001b[38;5;241m+\u001b[39m\u001b[38;5;241m=\u001b[39m\u001b[43mmn\u001b[49m\u001b[38;5;241;43m.\u001b[39;49m\u001b[43mget_money\u001b[49m\u001b[43m(\u001b[49m\u001b[43m)\u001b[49m\n",
      "Input \u001b[0;32mIn [1]\u001b[0m, in \u001b[0;36mMoney.get_money\u001b[0;34m(self)\u001b[0m\n\u001b[1;32m      7\u001b[0m \u001b[38;5;28;01mdef\u001b[39;00m \u001b[38;5;21mget_money\u001b[39m(\u001b[38;5;28mself\u001b[39m):\n\u001b[0;32m----> 8\u001b[0m     \u001b[38;5;28;01mreturn\u001b[39;00m \u001b[38;5;28;43mself\u001b[39;49m\u001b[38;5;241;43m.\u001b[39;49m\u001b[43mmoney\u001b[49m\n",
      "\u001b[0;31mAttributeError\u001b[0m: 'Money' object has no attribute 'money'"
     ]
    }
   ],
   "source": [
    "mn_1 = Money(10)\n",
    "mn_2 = Money(20)\n",
    "mn_1.set_money(100)\n",
    "mn_2.add_money(mn_1)\n",
    "m1 = mn_1.get_money()    # 100\n",
    "m2 = mn_2.get_money()"
   ]
  },
  {
   "cell_type": "code",
   "execution_count": null,
   "id": "fb1a9111-93b7-44c7-b270-b110516e9696",
   "metadata": {},
   "outputs": [],
   "source": []
  }
 ],
 "metadata": {
  "kernelspec": {
   "display_name": "Python 3 (ipykernel)",
   "language": "python",
   "name": "python3"
  },
  "language_info": {
   "codemirror_mode": {
    "name": "ipython",
    "version": 3
   },
   "file_extension": ".py",
   "mimetype": "text/x-python",
   "name": "python",
   "nbconvert_exporter": "python",
   "pygments_lexer": "ipython3",
   "version": "3.9.10"
  }
 },
 "nbformat": 4,
 "nbformat_minor": 5
}
